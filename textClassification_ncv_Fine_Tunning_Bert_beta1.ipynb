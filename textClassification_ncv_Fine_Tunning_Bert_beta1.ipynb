{
  "nbformat": 4,
  "nbformat_minor": 0,
  "metadata": {
    "accelerator": "GPU",
    "colab": {
      "name": "textClassification_ncv_Fine_Tunning_Bert-beta1.ipynb",
      "provenance": [],
      "collapsed_sections": []
    },
    "kernelspec": {
      "display_name": "Python 3",
      "language": "python",
      "name": "python3"
    },
    "language_info": {
      "codemirror_mode": {
        "name": "ipython",
        "version": 3
      },
      "file_extension": ".py",
      "mimetype": "text/x-python",
      "name": "python",
      "nbconvert_exporter": "python",
      "pygments_lexer": "ipython3",
      "version": "3.8.5"
    },
    "widgets": {
      "application/vnd.jupyter.widget-state+json": {
        "80bb686f18294b3089e7a1a6895b4f2a": {
          "model_module": "@jupyter-widgets/controls",
          "model_name": "HBoxModel",
          "state": {
            "_view_name": "HBoxView",
            "_dom_classes": [],
            "_model_name": "HBoxModel",
            "_view_module": "@jupyter-widgets/controls",
            "_model_module_version": "1.5.0",
            "_view_count": null,
            "_view_module_version": "1.5.0",
            "box_style": "",
            "layout": "IPY_MODEL_25300b1ce6dd42a5938be2c70282d0f6",
            "_model_module": "@jupyter-widgets/controls",
            "children": [
              "IPY_MODEL_e6099193d78c4fa9bd837d5d73c3e990",
              "IPY_MODEL_317caba37f83404c85121e6a3370ef2e"
            ]
          }
        },
        "25300b1ce6dd42a5938be2c70282d0f6": {
          "model_module": "@jupyter-widgets/base",
          "model_name": "LayoutModel",
          "state": {
            "_view_name": "LayoutView",
            "grid_template_rows": null,
            "right": null,
            "justify_content": null,
            "_view_module": "@jupyter-widgets/base",
            "overflow": null,
            "_model_module_version": "1.2.0",
            "_view_count": null,
            "flex_flow": null,
            "width": null,
            "min_width": null,
            "border": null,
            "align_items": null,
            "bottom": null,
            "_model_module": "@jupyter-widgets/base",
            "top": null,
            "grid_column": null,
            "overflow_y": null,
            "overflow_x": null,
            "grid_auto_flow": null,
            "grid_area": null,
            "grid_template_columns": null,
            "flex": null,
            "_model_name": "LayoutModel",
            "justify_items": null,
            "grid_row": null,
            "max_height": null,
            "align_content": null,
            "visibility": null,
            "align_self": null,
            "height": null,
            "min_height": null,
            "padding": null,
            "grid_auto_rows": null,
            "grid_gap": null,
            "max_width": null,
            "order": null,
            "_view_module_version": "1.2.0",
            "grid_template_areas": null,
            "object_position": null,
            "object_fit": null,
            "grid_auto_columns": null,
            "margin": null,
            "display": null,
            "left": null
          }
        },
        "e6099193d78c4fa9bd837d5d73c3e990": {
          "model_module": "@jupyter-widgets/controls",
          "model_name": "FloatProgressModel",
          "state": {
            "_view_name": "ProgressView",
            "style": "IPY_MODEL_17bccd0f294d4a3d9743a6858441c93b",
            "_dom_classes": [],
            "description": "Downloading: 100%",
            "_model_name": "FloatProgressModel",
            "bar_style": "success",
            "max": 231508,
            "_view_module": "@jupyter-widgets/controls",
            "_model_module_version": "1.5.0",
            "value": 231508,
            "_view_count": null,
            "_view_module_version": "1.5.0",
            "orientation": "horizontal",
            "min": 0,
            "description_tooltip": null,
            "_model_module": "@jupyter-widgets/controls",
            "layout": "IPY_MODEL_453ea79107af4a6695bd26a010080ff6"
          }
        },
        "317caba37f83404c85121e6a3370ef2e": {
          "model_module": "@jupyter-widgets/controls",
          "model_name": "HTMLModel",
          "state": {
            "_view_name": "HTMLView",
            "style": "IPY_MODEL_f450869ea47a4213b4ca33b6a8f09a6e",
            "_dom_classes": [],
            "description": "",
            "_model_name": "HTMLModel",
            "placeholder": "​",
            "_view_module": "@jupyter-widgets/controls",
            "_model_module_version": "1.5.0",
            "value": " 232k/232k [00:01&lt;00:00, 124kB/s]",
            "_view_count": null,
            "_view_module_version": "1.5.0",
            "description_tooltip": null,
            "_model_module": "@jupyter-widgets/controls",
            "layout": "IPY_MODEL_1d237d946165474dba7554c0ca3ae604"
          }
        },
        "17bccd0f294d4a3d9743a6858441c93b": {
          "model_module": "@jupyter-widgets/controls",
          "model_name": "ProgressStyleModel",
          "state": {
            "_view_name": "StyleView",
            "_model_name": "ProgressStyleModel",
            "description_width": "initial",
            "_view_module": "@jupyter-widgets/base",
            "_model_module_version": "1.5.0",
            "_view_count": null,
            "_view_module_version": "1.2.0",
            "bar_color": null,
            "_model_module": "@jupyter-widgets/controls"
          }
        },
        "453ea79107af4a6695bd26a010080ff6": {
          "model_module": "@jupyter-widgets/base",
          "model_name": "LayoutModel",
          "state": {
            "_view_name": "LayoutView",
            "grid_template_rows": null,
            "right": null,
            "justify_content": null,
            "_view_module": "@jupyter-widgets/base",
            "overflow": null,
            "_model_module_version": "1.2.0",
            "_view_count": null,
            "flex_flow": null,
            "width": null,
            "min_width": null,
            "border": null,
            "align_items": null,
            "bottom": null,
            "_model_module": "@jupyter-widgets/base",
            "top": null,
            "grid_column": null,
            "overflow_y": null,
            "overflow_x": null,
            "grid_auto_flow": null,
            "grid_area": null,
            "grid_template_columns": null,
            "flex": null,
            "_model_name": "LayoutModel",
            "justify_items": null,
            "grid_row": null,
            "max_height": null,
            "align_content": null,
            "visibility": null,
            "align_self": null,
            "height": null,
            "min_height": null,
            "padding": null,
            "grid_auto_rows": null,
            "grid_gap": null,
            "max_width": null,
            "order": null,
            "_view_module_version": "1.2.0",
            "grid_template_areas": null,
            "object_position": null,
            "object_fit": null,
            "grid_auto_columns": null,
            "margin": null,
            "display": null,
            "left": null
          }
        },
        "f450869ea47a4213b4ca33b6a8f09a6e": {
          "model_module": "@jupyter-widgets/controls",
          "model_name": "DescriptionStyleModel",
          "state": {
            "_view_name": "StyleView",
            "_model_name": "DescriptionStyleModel",
            "description_width": "",
            "_view_module": "@jupyter-widgets/base",
            "_model_module_version": "1.5.0",
            "_view_count": null,
            "_view_module_version": "1.2.0",
            "_model_module": "@jupyter-widgets/controls"
          }
        },
        "1d237d946165474dba7554c0ca3ae604": {
          "model_module": "@jupyter-widgets/base",
          "model_name": "LayoutModel",
          "state": {
            "_view_name": "LayoutView",
            "grid_template_rows": null,
            "right": null,
            "justify_content": null,
            "_view_module": "@jupyter-widgets/base",
            "overflow": null,
            "_model_module_version": "1.2.0",
            "_view_count": null,
            "flex_flow": null,
            "width": null,
            "min_width": null,
            "border": null,
            "align_items": null,
            "bottom": null,
            "_model_module": "@jupyter-widgets/base",
            "top": null,
            "grid_column": null,
            "overflow_y": null,
            "overflow_x": null,
            "grid_auto_flow": null,
            "grid_area": null,
            "grid_template_columns": null,
            "flex": null,
            "_model_name": "LayoutModel",
            "justify_items": null,
            "grid_row": null,
            "max_height": null,
            "align_content": null,
            "visibility": null,
            "align_self": null,
            "height": null,
            "min_height": null,
            "padding": null,
            "grid_auto_rows": null,
            "grid_gap": null,
            "max_width": null,
            "order": null,
            "_view_module_version": "1.2.0",
            "grid_template_areas": null,
            "object_position": null,
            "object_fit": null,
            "grid_auto_columns": null,
            "margin": null,
            "display": null,
            "left": null
          }
        },
        "184a311dbbfc462a9215688bf3ac74bb": {
          "model_module": "@jupyter-widgets/controls",
          "model_name": "HBoxModel",
          "state": {
            "_view_name": "HBoxView",
            "_dom_classes": [],
            "_model_name": "HBoxModel",
            "_view_module": "@jupyter-widgets/controls",
            "_model_module_version": "1.5.0",
            "_view_count": null,
            "_view_module_version": "1.5.0",
            "box_style": "",
            "layout": "IPY_MODEL_5c4f5a1e77294fecada31be2833a40eb",
            "_model_module": "@jupyter-widgets/controls",
            "children": [
              "IPY_MODEL_60c7459612804b69a5863ce680fbdc13",
              "IPY_MODEL_caec3ff5c84d45f8b3e2d4144cee2249"
            ]
          }
        },
        "5c4f5a1e77294fecada31be2833a40eb": {
          "model_module": "@jupyter-widgets/base",
          "model_name": "LayoutModel",
          "state": {
            "_view_name": "LayoutView",
            "grid_template_rows": null,
            "right": null,
            "justify_content": null,
            "_view_module": "@jupyter-widgets/base",
            "overflow": null,
            "_model_module_version": "1.2.0",
            "_view_count": null,
            "flex_flow": null,
            "width": null,
            "min_width": null,
            "border": null,
            "align_items": null,
            "bottom": null,
            "_model_module": "@jupyter-widgets/base",
            "top": null,
            "grid_column": null,
            "overflow_y": null,
            "overflow_x": null,
            "grid_auto_flow": null,
            "grid_area": null,
            "grid_template_columns": null,
            "flex": null,
            "_model_name": "LayoutModel",
            "justify_items": null,
            "grid_row": null,
            "max_height": null,
            "align_content": null,
            "visibility": null,
            "align_self": null,
            "height": null,
            "min_height": null,
            "padding": null,
            "grid_auto_rows": null,
            "grid_gap": null,
            "max_width": null,
            "order": null,
            "_view_module_version": "1.2.0",
            "grid_template_areas": null,
            "object_position": null,
            "object_fit": null,
            "grid_auto_columns": null,
            "margin": null,
            "display": null,
            "left": null
          }
        },
        "60c7459612804b69a5863ce680fbdc13": {
          "model_module": "@jupyter-widgets/controls",
          "model_name": "FloatProgressModel",
          "state": {
            "_view_name": "ProgressView",
            "style": "IPY_MODEL_f84b3d21f2b24bbc8604e06f442c37df",
            "_dom_classes": [],
            "description": "Downloading: 100%",
            "_model_name": "FloatProgressModel",
            "bar_style": "success",
            "max": 466062,
            "_view_module": "@jupyter-widgets/controls",
            "_model_module_version": "1.5.0",
            "value": 466062,
            "_view_count": null,
            "_view_module_version": "1.5.0",
            "orientation": "horizontal",
            "min": 0,
            "description_tooltip": null,
            "_model_module": "@jupyter-widgets/controls",
            "layout": "IPY_MODEL_419b31bd03ea4dbdaca65ffd9fb8741c"
          }
        },
        "caec3ff5c84d45f8b3e2d4144cee2249": {
          "model_module": "@jupyter-widgets/controls",
          "model_name": "HTMLModel",
          "state": {
            "_view_name": "HTMLView",
            "style": "IPY_MODEL_3b2b63efcd2646c8a884353ad40041d6",
            "_dom_classes": [],
            "description": "",
            "_model_name": "HTMLModel",
            "placeholder": "​",
            "_view_module": "@jupyter-widgets/controls",
            "_model_module_version": "1.5.0",
            "value": " 466k/466k [00:16&lt;00:00, 29.0kB/s]",
            "_view_count": null,
            "_view_module_version": "1.5.0",
            "description_tooltip": null,
            "_model_module": "@jupyter-widgets/controls",
            "layout": "IPY_MODEL_e0476fffa97547e0baaa6bbd44accf19"
          }
        },
        "f84b3d21f2b24bbc8604e06f442c37df": {
          "model_module": "@jupyter-widgets/controls",
          "model_name": "ProgressStyleModel",
          "state": {
            "_view_name": "StyleView",
            "_model_name": "ProgressStyleModel",
            "description_width": "initial",
            "_view_module": "@jupyter-widgets/base",
            "_model_module_version": "1.5.0",
            "_view_count": null,
            "_view_module_version": "1.2.0",
            "bar_color": null,
            "_model_module": "@jupyter-widgets/controls"
          }
        },
        "419b31bd03ea4dbdaca65ffd9fb8741c": {
          "model_module": "@jupyter-widgets/base",
          "model_name": "LayoutModel",
          "state": {
            "_view_name": "LayoutView",
            "grid_template_rows": null,
            "right": null,
            "justify_content": null,
            "_view_module": "@jupyter-widgets/base",
            "overflow": null,
            "_model_module_version": "1.2.0",
            "_view_count": null,
            "flex_flow": null,
            "width": null,
            "min_width": null,
            "border": null,
            "align_items": null,
            "bottom": null,
            "_model_module": "@jupyter-widgets/base",
            "top": null,
            "grid_column": null,
            "overflow_y": null,
            "overflow_x": null,
            "grid_auto_flow": null,
            "grid_area": null,
            "grid_template_columns": null,
            "flex": null,
            "_model_name": "LayoutModel",
            "justify_items": null,
            "grid_row": null,
            "max_height": null,
            "align_content": null,
            "visibility": null,
            "align_self": null,
            "height": null,
            "min_height": null,
            "padding": null,
            "grid_auto_rows": null,
            "grid_gap": null,
            "max_width": null,
            "order": null,
            "_view_module_version": "1.2.0",
            "grid_template_areas": null,
            "object_position": null,
            "object_fit": null,
            "grid_auto_columns": null,
            "margin": null,
            "display": null,
            "left": null
          }
        },
        "3b2b63efcd2646c8a884353ad40041d6": {
          "model_module": "@jupyter-widgets/controls",
          "model_name": "DescriptionStyleModel",
          "state": {
            "_view_name": "StyleView",
            "_model_name": "DescriptionStyleModel",
            "description_width": "",
            "_view_module": "@jupyter-widgets/base",
            "_model_module_version": "1.5.0",
            "_view_count": null,
            "_view_module_version": "1.2.0",
            "_model_module": "@jupyter-widgets/controls"
          }
        },
        "e0476fffa97547e0baaa6bbd44accf19": {
          "model_module": "@jupyter-widgets/base",
          "model_name": "LayoutModel",
          "state": {
            "_view_name": "LayoutView",
            "grid_template_rows": null,
            "right": null,
            "justify_content": null,
            "_view_module": "@jupyter-widgets/base",
            "overflow": null,
            "_model_module_version": "1.2.0",
            "_view_count": null,
            "flex_flow": null,
            "width": null,
            "min_width": null,
            "border": null,
            "align_items": null,
            "bottom": null,
            "_model_module": "@jupyter-widgets/base",
            "top": null,
            "grid_column": null,
            "overflow_y": null,
            "overflow_x": null,
            "grid_auto_flow": null,
            "grid_area": null,
            "grid_template_columns": null,
            "flex": null,
            "_model_name": "LayoutModel",
            "justify_items": null,
            "grid_row": null,
            "max_height": null,
            "align_content": null,
            "visibility": null,
            "align_self": null,
            "height": null,
            "min_height": null,
            "padding": null,
            "grid_auto_rows": null,
            "grid_gap": null,
            "max_width": null,
            "order": null,
            "_view_module_version": "1.2.0",
            "grid_template_areas": null,
            "object_position": null,
            "object_fit": null,
            "grid_auto_columns": null,
            "margin": null,
            "display": null,
            "left": null
          }
        },
        "deb2a286c0b949f49afca2a44add412c": {
          "model_module": "@jupyter-widgets/controls",
          "model_name": "HBoxModel",
          "state": {
            "_view_name": "HBoxView",
            "_dom_classes": [],
            "_model_name": "HBoxModel",
            "_view_module": "@jupyter-widgets/controls",
            "_model_module_version": "1.5.0",
            "_view_count": null,
            "_view_module_version": "1.5.0",
            "box_style": "",
            "layout": "IPY_MODEL_0f2059ac53c54ccfaa659f0cd6a97472",
            "_model_module": "@jupyter-widgets/controls",
            "children": [
              "IPY_MODEL_ef9e8a34ac1c46719fe2892d008591fa",
              "IPY_MODEL_1caa12aeb3064d659b42353ce575c0e2"
            ]
          }
        },
        "0f2059ac53c54ccfaa659f0cd6a97472": {
          "model_module": "@jupyter-widgets/base",
          "model_name": "LayoutModel",
          "state": {
            "_view_name": "LayoutView",
            "grid_template_rows": null,
            "right": null,
            "justify_content": null,
            "_view_module": "@jupyter-widgets/base",
            "overflow": null,
            "_model_module_version": "1.2.0",
            "_view_count": null,
            "flex_flow": null,
            "width": null,
            "min_width": null,
            "border": null,
            "align_items": null,
            "bottom": null,
            "_model_module": "@jupyter-widgets/base",
            "top": null,
            "grid_column": null,
            "overflow_y": null,
            "overflow_x": null,
            "grid_auto_flow": null,
            "grid_area": null,
            "grid_template_columns": null,
            "flex": null,
            "_model_name": "LayoutModel",
            "justify_items": null,
            "grid_row": null,
            "max_height": null,
            "align_content": null,
            "visibility": null,
            "align_self": null,
            "height": null,
            "min_height": null,
            "padding": null,
            "grid_auto_rows": null,
            "grid_gap": null,
            "max_width": null,
            "order": null,
            "_view_module_version": "1.2.0",
            "grid_template_areas": null,
            "object_position": null,
            "object_fit": null,
            "grid_auto_columns": null,
            "margin": null,
            "display": null,
            "left": null
          }
        },
        "ef9e8a34ac1c46719fe2892d008591fa": {
          "model_module": "@jupyter-widgets/controls",
          "model_name": "FloatProgressModel",
          "state": {
            "_view_name": "ProgressView",
            "style": "IPY_MODEL_9137e74a56654a3b92bbd418d897daee",
            "_dom_classes": [],
            "description": "Downloading: 100%",
            "_model_name": "FloatProgressModel",
            "bar_style": "success",
            "max": 536063208,
            "_view_module": "@jupyter-widgets/controls",
            "_model_module_version": "1.5.0",
            "value": 536063208,
            "_view_count": null,
            "_view_module_version": "1.5.0",
            "orientation": "horizontal",
            "min": 0,
            "description_tooltip": null,
            "_model_module": "@jupyter-widgets/controls",
            "layout": "IPY_MODEL_4a99031f626141428097c6217b129d96"
          }
        },
        "1caa12aeb3064d659b42353ce575c0e2": {
          "model_module": "@jupyter-widgets/controls",
          "model_name": "HTMLModel",
          "state": {
            "_view_name": "HTMLView",
            "style": "IPY_MODEL_d9c1b25317d24557acc74a75ead8d9e6",
            "_dom_classes": [],
            "description": "",
            "_model_name": "HTMLModel",
            "placeholder": "​",
            "_view_module": "@jupyter-widgets/controls",
            "_model_module_version": "1.5.0",
            "value": " 536M/536M [00:14&lt;00:00, 37.9MB/s]",
            "_view_count": null,
            "_view_module_version": "1.5.0",
            "description_tooltip": null,
            "_model_module": "@jupyter-widgets/controls",
            "layout": "IPY_MODEL_293a246ac4894c25a0ec293665c38838"
          }
        },
        "9137e74a56654a3b92bbd418d897daee": {
          "model_module": "@jupyter-widgets/controls",
          "model_name": "ProgressStyleModel",
          "state": {
            "_view_name": "StyleView",
            "_model_name": "ProgressStyleModel",
            "description_width": "initial",
            "_view_module": "@jupyter-widgets/base",
            "_model_module_version": "1.5.0",
            "_view_count": null,
            "_view_module_version": "1.2.0",
            "bar_color": null,
            "_model_module": "@jupyter-widgets/controls"
          }
        },
        "4a99031f626141428097c6217b129d96": {
          "model_module": "@jupyter-widgets/base",
          "model_name": "LayoutModel",
          "state": {
            "_view_name": "LayoutView",
            "grid_template_rows": null,
            "right": null,
            "justify_content": null,
            "_view_module": "@jupyter-widgets/base",
            "overflow": null,
            "_model_module_version": "1.2.0",
            "_view_count": null,
            "flex_flow": null,
            "width": null,
            "min_width": null,
            "border": null,
            "align_items": null,
            "bottom": null,
            "_model_module": "@jupyter-widgets/base",
            "top": null,
            "grid_column": null,
            "overflow_y": null,
            "overflow_x": null,
            "grid_auto_flow": null,
            "grid_area": null,
            "grid_template_columns": null,
            "flex": null,
            "_model_name": "LayoutModel",
            "justify_items": null,
            "grid_row": null,
            "max_height": null,
            "align_content": null,
            "visibility": null,
            "align_self": null,
            "height": null,
            "min_height": null,
            "padding": null,
            "grid_auto_rows": null,
            "grid_gap": null,
            "max_width": null,
            "order": null,
            "_view_module_version": "1.2.0",
            "grid_template_areas": null,
            "object_position": null,
            "object_fit": null,
            "grid_auto_columns": null,
            "margin": null,
            "display": null,
            "left": null
          }
        },
        "d9c1b25317d24557acc74a75ead8d9e6": {
          "model_module": "@jupyter-widgets/controls",
          "model_name": "DescriptionStyleModel",
          "state": {
            "_view_name": "StyleView",
            "_model_name": "DescriptionStyleModel",
            "description_width": "",
            "_view_module": "@jupyter-widgets/base",
            "_model_module_version": "1.5.0",
            "_view_count": null,
            "_view_module_version": "1.2.0",
            "_model_module": "@jupyter-widgets/controls"
          }
        },
        "293a246ac4894c25a0ec293665c38838": {
          "model_module": "@jupyter-widgets/base",
          "model_name": "LayoutModel",
          "state": {
            "_view_name": "LayoutView",
            "grid_template_rows": null,
            "right": null,
            "justify_content": null,
            "_view_module": "@jupyter-widgets/base",
            "overflow": null,
            "_model_module_version": "1.2.0",
            "_view_count": null,
            "flex_flow": null,
            "width": null,
            "min_width": null,
            "border": null,
            "align_items": null,
            "bottom": null,
            "_model_module": "@jupyter-widgets/base",
            "top": null,
            "grid_column": null,
            "overflow_y": null,
            "overflow_x": null,
            "grid_auto_flow": null,
            "grid_area": null,
            "grid_template_columns": null,
            "flex": null,
            "_model_name": "LayoutModel",
            "justify_items": null,
            "grid_row": null,
            "max_height": null,
            "align_content": null,
            "visibility": null,
            "align_self": null,
            "height": null,
            "min_height": null,
            "padding": null,
            "grid_auto_rows": null,
            "grid_gap": null,
            "max_width": null,
            "order": null,
            "_view_module_version": "1.2.0",
            "grid_template_areas": null,
            "object_position": null,
            "object_fit": null,
            "grid_auto_columns": null,
            "margin": null,
            "display": null,
            "left": null
          }
        }
      }
    }
  },
  "cells": [
    {
      "cell_type": "code",
      "metadata": {
        "colab": {
          "base_uri": "https://localhost:8080/"
        },
        "id": "Lu6CCLW8OWEV",
        "outputId": "dc210bdf-788a-42f3-f041-cb7aa51175d7"
      },
      "source": [
        "%tensorflow_version 2.x\n",
        "import tensorflow as tf\n",
        "device_name = tf.test.gpu_device_name()\n",
        "if device_name != '/device:GPU:0':\n",
        "  raise SystemError('GPU device not found')\n",
        "print('Found GPU at: {}'.format(device_name))"
      ],
      "execution_count": 1,
      "outputs": [
        {
          "output_type": "stream",
          "text": [
            "Found GPU at: /device:GPU:0\n"
          ],
          "name": "stdout"
        }
      ]
    },
    {
      "cell_type": "code",
      "metadata": {
        "colab": {
          "base_uri": "https://localhost:8080/"
        },
        "id": "oxedPL5lOhDv",
        "outputId": "2f69bb07-b76c-49f5-f6e3-76b6a7528e9c"
      },
      "source": [
        "from google.colab import drive\n",
        "drive.mount('/content/gdrive')"
      ],
      "execution_count": 2,
      "outputs": [
        {
          "output_type": "stream",
          "text": [
            "Mounted at /content/gdrive\n"
          ],
          "name": "stdout"
        }
      ]
    },
    {
      "cell_type": "code",
      "metadata": {
        "colab": {
          "base_uri": "https://localhost:8080/"
        },
        "id": "6MkXbU4HOrUl",
        "outputId": "6bc56949-b4f5-44cf-887d-ec9b13a3c2c4"
      },
      "source": [
        "!pip install silence_tensorflow\n",
        "!pip install pycm\n",
        "!pip install lime\n",
        "!pip install transformers\n",
        "import nltk\n",
        "nltk.download('stopwords')\n",
        "nltk.download('wordnet')"
      ],
      "execution_count": 3,
      "outputs": [
        {
          "output_type": "stream",
          "text": [
            "Collecting silence_tensorflow\n",
            "  Downloading https://files.pythonhosted.org/packages/96/d7/076b21d0e79cfc8a085f623e6577b754c50a42cfbcce51d77d0d2206988c/silence_tensorflow-1.1.1.tar.gz\n",
            "Building wheels for collected packages: silence-tensorflow\n",
            "  Building wheel for silence-tensorflow (setup.py) ... \u001b[?25l\u001b[?25hdone\n",
            "  Created wheel for silence-tensorflow: filename=silence_tensorflow-1.1.1-cp37-none-any.whl size=3743 sha256=597355cd1a1d720e3da28d4724764ea4449271722f84ba930d07115f65d4ac90\n",
            "  Stored in directory: /root/.cache/pip/wheels/51/0b/35/cf3020764bee61daa81fa249df3a448e3806344a087fc12292\n",
            "Successfully built silence-tensorflow\n",
            "Installing collected packages: silence-tensorflow\n",
            "Successfully installed silence-tensorflow-1.1.1\n",
            "Collecting pycm\n",
            "\u001b[?25l  Downloading https://files.pythonhosted.org/packages/07/e0/de92301a06bf5e2d24e04edc178ee457b49dbad2606c3252949222110f4d/pycm-3.0-py2.py3-none-any.whl (61kB)\n",
            "\u001b[K     |████████████████████████████████| 71kB 3.6MB/s \n",
            "\u001b[?25hRequirement already satisfied: numpy>=1.9.0 in /usr/local/lib/python3.7/dist-packages (from pycm) (1.19.5)\n",
            "Collecting art>=1.8\n",
            "\u001b[?25l  Downloading https://files.pythonhosted.org/packages/83/37/c28d69ba1005889e8ff9633b8e7eccaaddc03549058a51ef5f51853cf183/art-5.1-py2.py3-none-any.whl (567kB)\n",
            "\u001b[K     |████████████████████████████████| 573kB 7.4MB/s \n",
            "\u001b[?25hInstalling collected packages: art, pycm\n",
            "Successfully installed art-5.1 pycm-3.0\n",
            "Collecting lime\n",
            "\u001b[?25l  Downloading https://files.pythonhosted.org/packages/f5/86/91a13127d83d793ecb50eb75e716f76e6eda809b6803c5a4ff462339789e/lime-0.2.0.1.tar.gz (275kB)\n",
            "\u001b[K     |████████████████████████████████| 276kB 6.0MB/s \n",
            "\u001b[?25hRequirement already satisfied: matplotlib in /usr/local/lib/python3.7/dist-packages (from lime) (3.2.2)\n",
            "Requirement already satisfied: numpy in /usr/local/lib/python3.7/dist-packages (from lime) (1.19.5)\n",
            "Requirement already satisfied: scipy in /usr/local/lib/python3.7/dist-packages (from lime) (1.4.1)\n",
            "Requirement already satisfied: tqdm in /usr/local/lib/python3.7/dist-packages (from lime) (4.41.1)\n",
            "Requirement already satisfied: scikit-learn>=0.18 in /usr/local/lib/python3.7/dist-packages (from lime) (0.22.2.post1)\n",
            "Requirement already satisfied: scikit-image>=0.12 in /usr/local/lib/python3.7/dist-packages (from lime) (0.16.2)\n",
            "Requirement already satisfied: pyparsing!=2.0.4,!=2.1.2,!=2.1.6,>=2.0.1 in /usr/local/lib/python3.7/dist-packages (from matplotlib->lime) (2.4.7)\n",
            "Requirement already satisfied: kiwisolver>=1.0.1 in /usr/local/lib/python3.7/dist-packages (from matplotlib->lime) (1.3.1)\n",
            "Requirement already satisfied: python-dateutil>=2.1 in /usr/local/lib/python3.7/dist-packages (from matplotlib->lime) (2.8.1)\n",
            "Requirement already satisfied: cycler>=0.10 in /usr/local/lib/python3.7/dist-packages (from matplotlib->lime) (0.10.0)\n",
            "Requirement already satisfied: joblib>=0.11 in /usr/local/lib/python3.7/dist-packages (from scikit-learn>=0.18->lime) (1.0.1)\n",
            "Requirement already satisfied: PyWavelets>=0.4.0 in /usr/local/lib/python3.7/dist-packages (from scikit-image>=0.12->lime) (1.1.1)\n",
            "Requirement already satisfied: networkx>=2.0 in /usr/local/lib/python3.7/dist-packages (from scikit-image>=0.12->lime) (2.5)\n",
            "Requirement already satisfied: pillow>=4.3.0 in /usr/local/lib/python3.7/dist-packages (from scikit-image>=0.12->lime) (7.0.0)\n",
            "Requirement already satisfied: imageio>=2.3.0 in /usr/local/lib/python3.7/dist-packages (from scikit-image>=0.12->lime) (2.4.1)\n",
            "Requirement already satisfied: six>=1.5 in /usr/local/lib/python3.7/dist-packages (from python-dateutil>=2.1->matplotlib->lime) (1.15.0)\n",
            "Requirement already satisfied: decorator>=4.3.0 in /usr/local/lib/python3.7/dist-packages (from networkx>=2.0->scikit-image>=0.12->lime) (4.4.2)\n",
            "Building wheels for collected packages: lime\n",
            "  Building wheel for lime (setup.py) ... \u001b[?25l\u001b[?25hdone\n",
            "  Created wheel for lime: filename=lime-0.2.0.1-cp37-none-any.whl size=283846 sha256=ab6aa1031a962d5558b45ed788cb626b6b4be4953ff73cde78631de6a7f13065\n",
            "  Stored in directory: /root/.cache/pip/wheels/4c/4f/a5/0bc765457bd41378bf3ce8d17d7495369d6e7ca3b712c60c89\n",
            "Successfully built lime\n",
            "Installing collected packages: lime\n",
            "Successfully installed lime-0.2.0.1\n",
            "Collecting transformers\n",
            "\u001b[?25l  Downloading https://files.pythonhosted.org/packages/f9/54/5ca07ec9569d2f232f3166de5457b63943882f7950ddfcc887732fc7fb23/transformers-4.3.3-py3-none-any.whl (1.9MB)\n",
            "\u001b[K     |████████████████████████████████| 1.9MB 4.2MB/s \n",
            "\u001b[?25hRequirement already satisfied: tqdm>=4.27 in /usr/local/lib/python3.7/dist-packages (from transformers) (4.41.1)\n",
            "Collecting tokenizers<0.11,>=0.10.1\n",
            "\u001b[?25l  Downloading https://files.pythonhosted.org/packages/71/23/2ddc317b2121117bf34dd00f5b0de194158f2a44ee2bf5e47c7166878a97/tokenizers-0.10.1-cp37-cp37m-manylinux2010_x86_64.whl (3.2MB)\n",
            "\u001b[K     |████████████████████████████████| 3.2MB 41.7MB/s \n",
            "\u001b[?25hRequirement already satisfied: numpy>=1.17 in /usr/local/lib/python3.7/dist-packages (from transformers) (1.19.5)\n",
            "Requirement already satisfied: importlib-metadata; python_version < \"3.8\" in /usr/local/lib/python3.7/dist-packages (from transformers) (3.7.0)\n",
            "Requirement already satisfied: filelock in /usr/local/lib/python3.7/dist-packages (from transformers) (3.0.12)\n",
            "Requirement already satisfied: requests in /usr/local/lib/python3.7/dist-packages (from transformers) (2.23.0)\n",
            "Requirement already satisfied: packaging in /usr/local/lib/python3.7/dist-packages (from transformers) (20.9)\n",
            "Collecting sacremoses\n",
            "\u001b[?25l  Downloading https://files.pythonhosted.org/packages/7d/34/09d19aff26edcc8eb2a01bed8e98f13a1537005d31e95233fd48216eed10/sacremoses-0.0.43.tar.gz (883kB)\n",
            "\u001b[K     |████████████████████████████████| 890kB 26.0MB/s \n",
            "\u001b[?25hRequirement already satisfied: regex!=2019.12.17 in /usr/local/lib/python3.7/dist-packages (from transformers) (2019.12.20)\n",
            "Requirement already satisfied: typing-extensions>=3.6.4; python_version < \"3.8\" in /usr/local/lib/python3.7/dist-packages (from importlib-metadata; python_version < \"3.8\"->transformers) (3.7.4.3)\n",
            "Requirement already satisfied: zipp>=0.5 in /usr/local/lib/python3.7/dist-packages (from importlib-metadata; python_version < \"3.8\"->transformers) (3.4.0)\n",
            "Requirement already satisfied: urllib3!=1.25.0,!=1.25.1,<1.26,>=1.21.1 in /usr/local/lib/python3.7/dist-packages (from requests->transformers) (1.24.3)\n",
            "Requirement already satisfied: chardet<4,>=3.0.2 in /usr/local/lib/python3.7/dist-packages (from requests->transformers) (3.0.4)\n",
            "Requirement already satisfied: idna<3,>=2.5 in /usr/local/lib/python3.7/dist-packages (from requests->transformers) (2.10)\n",
            "Requirement already satisfied: certifi>=2017.4.17 in /usr/local/lib/python3.7/dist-packages (from requests->transformers) (2020.12.5)\n",
            "Requirement already satisfied: pyparsing>=2.0.2 in /usr/local/lib/python3.7/dist-packages (from packaging->transformers) (2.4.7)\n",
            "Requirement already satisfied: six in /usr/local/lib/python3.7/dist-packages (from sacremoses->transformers) (1.15.0)\n",
            "Requirement already satisfied: click in /usr/local/lib/python3.7/dist-packages (from sacremoses->transformers) (7.1.2)\n",
            "Requirement already satisfied: joblib in /usr/local/lib/python3.7/dist-packages (from sacremoses->transformers) (1.0.1)\n",
            "Building wheels for collected packages: sacremoses\n",
            "  Building wheel for sacremoses (setup.py) ... \u001b[?25l\u001b[?25hdone\n",
            "  Created wheel for sacremoses: filename=sacremoses-0.0.43-cp37-none-any.whl size=893262 sha256=291a6d22a6b911f9001e794389fdd5886901520bd33b1f6606f6a623e0c2a32f\n",
            "  Stored in directory: /root/.cache/pip/wheels/29/3c/fd/7ce5c3f0666dab31a50123635e6fb5e19ceb42ce38d4e58f45\n",
            "Successfully built sacremoses\n",
            "Installing collected packages: tokenizers, sacremoses, transformers\n",
            "Successfully installed sacremoses-0.0.43 tokenizers-0.10.1 transformers-4.3.3\n",
            "[nltk_data] Downloading package stopwords to /root/nltk_data...\n",
            "[nltk_data]   Unzipping corpora/stopwords.zip.\n",
            "[nltk_data] Downloading package wordnet to /root/nltk_data...\n",
            "[nltk_data]   Unzipping corpora/wordnet.zip.\n"
          ],
          "name": "stdout"
        },
        {
          "output_type": "execute_result",
          "data": {
            "text/plain": [
              "True"
            ]
          },
          "metadata": {
            "tags": []
          },
          "execution_count": 3
        }
      ]
    },
    {
      "cell_type": "code",
      "metadata": {
        "id": "qqaSuDi0PMuq"
      },
      "source": [
        "import os\n",
        "default_path = \"/content/gdrive/MyDrive/Colab Notebooks/Automatic Software Artifacts\"\n",
        "os.chdir(default_path)"
      ],
      "execution_count": 4,
      "outputs": []
    },
    {
      "cell_type": "code",
      "metadata": {
        "id": "rlEQzlfvNvmX"
      },
      "source": [
        "import warnings\n",
        "warnings.filterwarnings(\"ignore\")\n",
        "import numpy as np\n",
        "import pandas as pd\n",
        "## for deep learning\n",
        "import tensorflow as tf\n",
        "from tensorflow.keras.layers import Embedding\n",
        "from tensorflow.keras import layers, preprocessing as kprocessing\n",
        "from tensorflow.keras import backend as K\n",
        "## for bert language model\n",
        "import transformers\n",
        "from transformers import BertTokenizer, TFBertModel, BertConfig, TFDistilBertModel\n",
        "from tensorflow.keras.models import Sequential, Model\n",
        "from tensorflow.keras.layers import Dense, Dropout, Activation, Conv1D, GlobalMaxPooling1D, LSTM, SpatialDropout1D, Input, Flatten, MaxPooling1D\n",
        "from sklearn.utils import shuffle\n",
        "from tensorflow.keras.preprocessing import text, sequence\n",
        "from sklearn.model_selection import train_test_split\n",
        "from tensorflow.keras.optimizers import Adam\n",
        "from tensorflow.keras import utils\n",
        "\n",
        "## for plotting\n",
        "import matplotlib.pyplot as plt\n",
        "import seaborn as sns\n",
        "## for processing\n",
        "import nltk\n",
        "import re\n",
        "## for bag-of-words\n",
        "from sklearn.feature_extraction.text import TfidfVectorizer\n",
        "from sklearn import feature_extraction, model_selection, naive_bayes, pipeline, manifold, preprocessing\n",
        "from sklearn.preprocessing import LabelEncoder\n",
        "from sklearn import feature_selection\n",
        "# Classifiers\n",
        "from sklearn.linear_model import LogisticRegression\n",
        "from sklearn.ensemble import RandomForestClassifier, AdaBoostClassifier, VotingClassifier\n",
        "from sklearn import svm\n",
        "from sklearn.svm import SVC, LinearSVC\n",
        "from sklearn.tree import DecisionTreeClassifier\n",
        "from sklearn.naive_bayes import MultinomialNB, GaussianNB, ComplementNB\n",
        "from sklearn.model_selection import StratifiedShuffleSplit\n",
        "# Metrics\n",
        "from sklearn import metrics\n",
        "from sklearn.metrics import confusion_matrix\n",
        "from pycm import *\n",
        "## for explainer\n",
        "from lime import lime_text\n",
        "## for word embedding\n",
        "import gensim\n",
        "import gensim.downloader as gensim_api\n",
        "\n",
        "import utils_functions as uf\n",
        "\n",
        "import matplotlib as mpl\n",
        "# Set the default color cycle\n",
        "mpl.rcParams['axes.prop_cycle'] = mpl.cycler(color=[\"b\", \"k\", \"c\"]) \n",
        "\n",
        "np.random.seed(7)"
      ],
      "execution_count": 5,
      "outputs": []
    },
    {
      "cell_type": "markdown",
      "metadata": {
        "id": "sJIZ4lsONvmf"
      },
      "source": [
        "### Some Utils Functions"
      ]
    },
    {
      "cell_type": "code",
      "metadata": {
        "id": "EnJ7ms3y1atk"
      },
      "source": [
        "# encode y_train\n",
        "def encode_y(y_in):\n",
        "    dic_y_mapping = {n:label for n,label in enumerate(np.unique(y_in))}\n",
        "    inverse_dic = {v:k for k,v in dic_y_mapping.items()}\n",
        "    y_in = np.array([inverse_dic[y] for y in y_in])\n",
        "    return y_in, dic_y_mapping"
      ],
      "execution_count": 6,
      "outputs": []
    },
    {
      "cell_type": "code",
      "metadata": {
        "id": "8YZHVr33Nvmg"
      },
      "source": [
        "# '''\n",
        "# Compute different text length metrics.\n",
        "# :parameter\n",
        "#     :param dtf: dataframe - dtf with a text column\n",
        "#     :param column: string - name of column containing text\n",
        "# :return\n",
        "#     dtf: input dataframe with 2 new columns\n",
        "# '''\n",
        "def add_text_length(dtf, column):\n",
        "    dtf['word_count'] = dtf[column].apply(lambda x: len(str(x).split(\" \")))\n",
        "    dtf['char_count'] = dtf[column].apply(lambda x: sum(len(word) for word in str(x).split(\" \")))\n",
        "    dtf['sentence_count'] = dtf[column].apply(lambda x: len(str(x).split(\".\")))\n",
        "    dtf['avg_word_length'] = dtf['char_count'] / dtf['word_count']\n",
        "    dtf['avg_sentence_lenght'] = dtf['word_count'] / dtf['sentence_count']\n",
        "    print(dtf[['word_count','char_count','sentence_count','avg_word_length','avg_sentence_lenght']].describe().T[[\"min\",\"mean\",\"max\"]])\n",
        "    return dtf"
      ],
      "execution_count": 7,
      "outputs": []
    },
    {
      "cell_type": "code",
      "metadata": {
        "id": "x95STmQiNvmh"
      },
      "source": [
        "from sklearn.decomposition import IncrementalPCA    # inital reduction\n",
        "from sklearn.manifold import TSNE                   # final reduction\n",
        "import numpy as np                                  # array handling\n",
        "\n",
        "def display_closestwords_tsnescatterplot(word_vect, dim, words):\n",
        "    \n",
        "    arr = np.empty((0,dim), dtype='f')\n",
        "    word_labels = words\n",
        "\n",
        "    # get close words\n",
        "    #close_words = [model.similar_by_word(word) for word in words]\n",
        "    \n",
        "    # add the vector for each of the closest words to the array\n",
        "    close_words=[]\n",
        "    for word in words:\n",
        "        arr = np.append(arr, np.array([word_vect[word]]), axis=0)\n",
        "        close_words +=model.similar_by_word(word)\n",
        "        \n",
        "    for wrd_score in close_words:\n",
        "        wrd_vector = word_vect[wrd_score[0]]\n",
        "        word_labels.append(wrd_score[0])\n",
        "        arr = np.append(arr, np.array([wrd_vector]), axis=0)\n",
        "        \n",
        "    # find tsne coords for 2 dimensions\n",
        "    tsne = TSNE(n_components=2, random_state=0)\n",
        "    #np.set_printoptions(suppress=True)\n",
        "    Y = tsne.fit_transform(arr)\n",
        "\n",
        "    x_coords = Y[:, 0]\n",
        "    y_coords = Y[:, 1]\n",
        "    # display scatter plot\n",
        "    plt.scatter(x_coords, y_coords)\n",
        "\n",
        "    for label, x, y in zip(word_labels, x_coords, y_coords):\n",
        "        plt.annotate(label, xy=(x, y), xytext=(0, 0), textcoords='offset points')\n",
        "    plt.xlim(x_coords.min()+0.00005, x_coords.max()+0.00005)\n",
        "    plt.ylim(y_coords.min()+0.00005, y_coords.max()+0.00005)\n",
        "    plt.show()\n",
        "    \n",
        "def tsne_plot(word_vect, words):\n",
        "    \"Creates and TSNE model and plots it\"\n",
        "    labels = []\n",
        "    tokens = []\n",
        "\n",
        "    #for word in model.wv.vocab:\n",
        "    for word in words:\n",
        "        tokens.append(word_vect[word])\n",
        "        labels.append(word)\n",
        "    \n",
        "    tsne_model = TSNE(perplexity=40, n_components=2, init='pca', n_iter=2500, random_state=23)\n",
        "    new_values = tsne_model.fit_transform(tokens)\n",
        "\n",
        "    x = []\n",
        "    y = []\n",
        "    for value in new_values:\n",
        "        x.append(value[0])\n",
        "        y.append(value[1])\n",
        "        \n",
        "    plt.figure(figsize=(14, 10)) \n",
        "    for i in range(len(x)):\n",
        "        plt.scatter(x[i],y[i])\n",
        "        plt.annotate(labels[i],\n",
        "                     xy=(x[i], y[i]),\n",
        "                     xytext=(5, 2),\n",
        "                     textcoords='offset points',\n",
        "                     ha='right',\n",
        "                     va='bottom')\n",
        "    plt.show()"
      ],
      "execution_count": 8,
      "outputs": []
    },
    {
      "cell_type": "markdown",
      "metadata": {
        "id": "NTBTCXLuNvmk"
      },
      "source": [
        "### Read and Show a Data Sample"
      ]
    },
    {
      "cell_type": "code",
      "metadata": {
        "id": "WYC6OB5GNvml",
        "tags": [
          "outputPrepend"
        ]
      },
      "source": [
        "file = 'dataset.csv'\n",
        "df = pd.read_csv(file,encoding='ISO-8859-1')\n",
        "\n",
        "labels = df.NumLabel\n",
        "labels = labels.to_numpy()"
      ],
      "execution_count": 9,
      "outputs": []
    },
    {
      "cell_type": "code",
      "metadata": {
        "colab": {
          "base_uri": "https://localhost:8080/",
          "height": 195
        },
        "id": "zKe-o96UNvml",
        "outputId": "c974fa19-8c21-41ad-dedb-b88a799718ee"
      },
      "source": [
        "df.sample(5)"
      ],
      "execution_count": 10,
      "outputs": [
        {
          "output_type": "execute_result",
          "data": {
            "text/html": [
              "<div>\n",
              "<style scoped>\n",
              "    .dataframe tbody tr th:only-of-type {\n",
              "        vertical-align: middle;\n",
              "    }\n",
              "\n",
              "    .dataframe tbody tr th {\n",
              "        vertical-align: top;\n",
              "    }\n",
              "\n",
              "    .dataframe thead th {\n",
              "        text-align: right;\n",
              "    }\n",
              "</style>\n",
              "<table border=\"1\" class=\"dataframe\">\n",
              "  <thead>\n",
              "    <tr style=\"text-align: right;\">\n",
              "      <th></th>\n",
              "      <th>Label</th>\n",
              "      <th>NumLabel</th>\n",
              "      <th>Text</th>\n",
              "      <th>FileName</th>\n",
              "    </tr>\n",
              "  </thead>\n",
              "  <tbody>\n",
              "    <tr>\n",
              "      <th>11</th>\n",
              "      <td>Design Document</td>\n",
              "      <td>0</td>\n",
              "      <td>place your ssl tls server keys and certificate...</td>\n",
              "      <td>../MSRDataset/Oracle/Design Document/2521-dock...</td>\n",
              "    </tr>\n",
              "    <tr>\n",
              "      <th>128</th>\n",
              "      <td>License</td>\n",
              "      <td>4</td>\n",
              "      <td>mit licenced copyright Ã¢ wisembly permission ...</td>\n",
              "      <td>../MSRDataset/Oracle/License/21787-elephant.io...</td>\n",
              "    </tr>\n",
              "    <tr>\n",
              "      <th>158</th>\n",
              "      <td>Contributors' Guide</td>\n",
              "      <td>5</td>\n",
              "      <td>running the tests you ll need npm https npmjs ...</td>\n",
              "      <td>../MSRDataset/Oracle/Contributors' Guide/15685...</td>\n",
              "    </tr>\n",
              "    <tr>\n",
              "      <th>98</th>\n",
              "      <td>License</td>\n",
              "      <td>4</td>\n",
              "      <td>the mit license copyright c automattic dev clo...</td>\n",
              "      <td>../MSRDataset/Oracle/License/21443-socket.io-n...</td>\n",
              "    </tr>\n",
              "    <tr>\n",
              "      <th>131</th>\n",
              "      <td>Contributors' Guide</td>\n",
              "      <td>5</td>\n",
              "      <td>angular js enterprise edition boilerplate this...</td>\n",
              "      <td>../MSRDataset/Oracle/Contributors' Guide/5371-...</td>\n",
              "    </tr>\n",
              "  </tbody>\n",
              "</table>\n",
              "</div>"
            ],
            "text/plain": [
              "                   Label  ...                                           FileName\n",
              "11       Design Document  ...  ../MSRDataset/Oracle/Design Document/2521-dock...\n",
              "128              License  ...  ../MSRDataset/Oracle/License/21787-elephant.io...\n",
              "158  Contributors' Guide  ...  ../MSRDataset/Oracle/Contributors' Guide/15685...\n",
              "98               License  ...  ../MSRDataset/Oracle/License/21443-socket.io-n...\n",
              "131  Contributors' Guide  ...  ../MSRDataset/Oracle/Contributors' Guide/5371-...\n",
              "\n",
              "[5 rows x 4 columns]"
            ]
          },
          "metadata": {
            "tags": []
          },
          "execution_count": 10
        }
      ]
    },
    {
      "cell_type": "code",
      "metadata": {
        "colab": {
          "base_uri": "https://localhost:8080/",
          "height": 294
        },
        "id": "x5BpAMmQNvmn",
        "outputId": "99bdca0b-a519-4da5-8b11-877c9becfc57"
      },
      "source": [
        "fig, ax = plt.subplots()\n",
        "fig.suptitle(\"Univariate Distribution\", fontsize=12)\n",
        "df[\"Label\"].reset_index().groupby(\"Label\").count().sort_values(by= \n",
        "       \"index\").plot(kind=\"barh\", legend=False, \n",
        "        ax=ax).grid(axis='x')\n",
        "plt.show()"
      ],
      "execution_count": 11,
      "outputs": [
        {
          "output_type": "display_data",
          "data": {
            "image/png": "[encoded data removed]",
            "text/plain": [
              "<Figure size 432x288 with 1 Axes>"
            ]
          },
          "metadata": {
            "tags": [],
            "needs_background": "light"
          }
        }
      ]
    },
    {
      "cell_type": "markdown",
      "metadata": {
        "id": "nSQhYuSINvmo"
      },
      "source": [
        "### Run Preprocessing Function to Clean Text"
      ]
    },
    {
      "cell_type": "code",
      "metadata": {
        "colab": {
          "base_uri": "https://localhost:8080/",
          "height": 195
        },
        "id": "lgu-abzONvmo",
        "outputId": "75e021c4-4ebb-4fed-f9cb-5d20b73c4cea"
      },
      "source": [
        "# Load stopwords from NLTK\n",
        "lst_stopwords = nltk.corpus.stopwords.words(\"english\")\n",
        "df[\"text_clean\"] = df[\"Text\"].apply(lambda x: \n",
        "                      uf.utils_preprocess_text(x, flg_stemm=True, flg_lemm=True, \n",
        "                      lst_stopwords=lst_stopwords))\n",
        "df.sample(5)"
      ],
      "execution_count": 12,
      "outputs": [
        {
          "output_type": "execute_result",
          "data": {
            "text/html": [
              "<div>\n",
              "<style scoped>\n",
              "    .dataframe tbody tr th:only-of-type {\n",
              "        vertical-align: middle;\n",
              "    }\n",
              "\n",
              "    .dataframe tbody tr th {\n",
              "        vertical-align: top;\n",
              "    }\n",
              "\n",
              "    .dataframe thead th {\n",
              "        text-align: right;\n",
              "    }\n",
              "</style>\n",
              "<table border=\"1\" class=\"dataframe\">\n",
              "  <thead>\n",
              "    <tr style=\"text-align: right;\">\n",
              "      <th></th>\n",
              "      <th>Label</th>\n",
              "      <th>NumLabel</th>\n",
              "      <th>Text</th>\n",
              "      <th>FileName</th>\n",
              "      <th>text_clean</th>\n",
              "    </tr>\n",
              "  </thead>\n",
              "  <tbody>\n",
              "    <tr>\n",
              "      <th>31</th>\n",
              "      <td>List of Contributors</td>\n",
              "      <td>1</td>\n",
              "      <td>copyrightbegin copyright ericsson ab all right...</td>\n",
              "      <td>../MSRDataset/Oracle/List of Contributors/1544...</td>\n",
              "      <td>copyrightbegin copyright ericsson ab right res...</td>\n",
              "    </tr>\n",
              "    <tr>\n",
              "      <th>205</th>\n",
              "      <td>Release Notes</td>\n",
              "      <td>6</td>\n",
              "      <td>fixes fixed status code error on supervisord s...</td>\n",
              "      <td>../MSRDataset/Oracle/Release Notes/7215-dextr-...</td>\n",
              "      <td>fix fix statu code error supervisord superviso...</td>\n",
              "    </tr>\n",
              "    <tr>\n",
              "      <th>60</th>\n",
              "      <td>Setup Files</td>\n",
              "      <td>2</td>\n",
              "      <td>name device js version homepage https github c...</td>\n",
              "      <td>../MSRDataset/Oracle/Setup Files/23829-device....</td>\n",
              "      <td>name devic j version homepag http github com m...</td>\n",
              "    </tr>\n",
              "    <tr>\n",
              "      <th>30</th>\n",
              "      <td>List of Contributors</td>\n",
              "      <td>1</td>\n",
              "      <td>original authors niclas eklund contributors</td>\n",
              "      <td>../MSRDataset/Oracle/List of Contributors/1544...</td>\n",
              "      <td>origin author nicla eklund contributor</td>\n",
              "    </tr>\n",
              "    <tr>\n",
              "      <th>6</th>\n",
              "      <td>Design Document</td>\n",
              "      <td>0</td>\n",
              "      <td>mechanize forms span class docwarning this doc...</td>\n",
              "      <td>../MSRDataset/Oracle/Design Document/1641-mech...</td>\n",
              "      <td>mechan form span class docwarn document need r...</td>\n",
              "    </tr>\n",
              "  </tbody>\n",
              "</table>\n",
              "</div>"
            ],
            "text/plain": [
              "                    Label  ...                                         text_clean\n",
              "31   List of Contributors  ...  copyrightbegin copyright ericsson ab right res...\n",
              "205         Release Notes  ...  fix fix statu code error supervisord superviso...\n",
              "60            Setup Files  ...  name devic j version homepag http github com m...\n",
              "30   List of Contributors  ...             origin author nicla eklund contributor\n",
              "6         Design Document  ...  mechan form span class docwarn document need r...\n",
              "\n",
              "[5 rows x 5 columns]"
            ]
          },
          "metadata": {
            "tags": []
          },
          "execution_count": 12
        }
      ]
    },
    {
      "cell_type": "markdown",
      "metadata": {
        "id": "AgJ__rpMNvmp"
      },
      "source": [
        "### Text Length Analysis"
      ]
    },
    {
      "cell_type": "code",
      "metadata": {
        "colab": {
          "base_uri": "https://localhost:8080/",
          "height": 402
        },
        "id": "zRaqpeKINvmp",
        "outputId": "2bb1c887-9aef-49ea-f2ed-9fdcef39ec05"
      },
      "source": [
        "dtf = add_text_length(df, \"text_clean\")\n",
        "dtf.head()"
      ],
      "execution_count": 13,
      "outputs": [
        {
          "output_type": "stream",
          "text": [
            "                      min         mean            max\n",
            "word_count            3.0  1186.144231   40837.000000\n",
            "char_count           16.0  5896.274038  206636.000000\n",
            "sentence_count        1.0     1.000000       1.000000\n",
            "avg_word_length       3.5     5.384789       7.153846\n",
            "avg_sentence_lenght   3.0  1186.144231   40837.000000\n"
          ],
          "name": "stdout"
        },
        {
          "output_type": "execute_result",
          "data": {
            "text/html": [
              "<div>\n",
              "<style scoped>\n",
              "    .dataframe tbody tr th:only-of-type {\n",
              "        vertical-align: middle;\n",
              "    }\n",
              "\n",
              "    .dataframe tbody tr th {\n",
              "        vertical-align: top;\n",
              "    }\n",
              "\n",
              "    .dataframe thead th {\n",
              "        text-align: right;\n",
              "    }\n",
              "</style>\n",
              "<table border=\"1\" class=\"dataframe\">\n",
              "  <thead>\n",
              "    <tr style=\"text-align: right;\">\n",
              "      <th></th>\n",
              "      <th>Label</th>\n",
              "      <th>NumLabel</th>\n",
              "      <th>Text</th>\n",
              "      <th>FileName</th>\n",
              "      <th>text_clean</th>\n",
              "      <th>word_count</th>\n",
              "      <th>char_count</th>\n",
              "      <th>sentence_count</th>\n",
              "      <th>avg_word_length</th>\n",
              "      <th>avg_sentence_lenght</th>\n",
              "    </tr>\n",
              "  </thead>\n",
              "  <tbody>\n",
              "    <tr>\n",
              "      <th>0</th>\n",
              "      <td>Design Document</td>\n",
              "      <td>0</td>\n",
              "      <td>design operation and maintenance manual for me...</td>\n",
              "      <td>../MSRDataset/Oracle/Design Document/13663-cmg...</td>\n",
              "      <td>design oper mainten manual messagelogg message...</td>\n",
              "      <td>2485</td>\n",
              "      <td>14533</td>\n",
              "      <td>1</td>\n",
              "      <td>5.848290</td>\n",
              "      <td>2485.0</td>\n",
              "    </tr>\n",
              "    <tr>\n",
              "      <th>1</th>\n",
              "      <td>Design Document</td>\n",
              "      <td>0</td>\n",
              "      <td>gspread documentation master file created by s...</td>\n",
              "      <td>../MSRDataset/Oracle/Design Document/30200-gsp...</td>\n",
              "      <td>gspread document master file creat sphinx quic...</td>\n",
              "      <td>133</td>\n",
              "      <td>899</td>\n",
              "      <td>1</td>\n",
              "      <td>6.759398</td>\n",
              "      <td>133.0</td>\n",
              "    </tr>\n",
              "    <tr>\n",
              "      <th>2</th>\n",
              "      <td>Design Document</td>\n",
              "      <td>0</td>\n",
              "      <td>non blocking trace setting introduction before...</td>\n",
              "      <td>../MSRDataset/Oracle/Design Document/15549-otp...</td>\n",
              "      <td>non block trace set introduct otp trace set ch...</td>\n",
              "      <td>772</td>\n",
              "      <td>4302</td>\n",
              "      <td>1</td>\n",
              "      <td>5.572539</td>\n",
              "      <td>772.0</td>\n",
              "    </tr>\n",
              "    <tr>\n",
              "      <th>3</th>\n",
              "      <td>Design Document</td>\n",
              "      <td>0</td>\n",
              "      <td>layout doc title delite popup delite popup del...</td>\n",
              "      <td>../MSRDataset/Oracle/Design Document/12383-del...</td>\n",
              "      <td>layout doc titl delit popup delit popup delit ...</td>\n",
              "      <td>983</td>\n",
              "      <td>5086</td>\n",
              "      <td>1</td>\n",
              "      <td>5.173957</td>\n",
              "      <td>983.0</td>\n",
              "    </tr>\n",
              "    <tr>\n",
              "      <th>4</th>\n",
              "      <td>Design Document</td>\n",
              "      <td>0</td>\n",
              "      <td>design patterns observer</td>\n",
              "      <td>../MSRDataset/Oracle/Design Document/55544-des...</td>\n",
              "      <td>design pattern observ</td>\n",
              "      <td>3</td>\n",
              "      <td>19</td>\n",
              "      <td>1</td>\n",
              "      <td>6.333333</td>\n",
              "      <td>3.0</td>\n",
              "    </tr>\n",
              "  </tbody>\n",
              "</table>\n",
              "</div>"
            ],
            "text/plain": [
              "             Label  NumLabel  ... avg_word_length avg_sentence_lenght\n",
              "0  Design Document         0  ...        5.848290              2485.0\n",
              "1  Design Document         0  ...        6.759398               133.0\n",
              "2  Design Document         0  ...        5.572539               772.0\n",
              "3  Design Document         0  ...        5.173957               983.0\n",
              "4  Design Document         0  ...        6.333333                 3.0\n",
              "\n",
              "[5 rows x 10 columns]"
            ]
          },
          "metadata": {
            "tags": []
          },
          "execution_count": 13
        }
      ]
    },
    {
      "cell_type": "code",
      "metadata": {
        "id": "nxz4gLekNvms"
      },
      "source": [
        "# encode y_train\n",
        "def encode_y_train(y_train):\n",
        "    dic_y_mapping = {n:label for n,label in enumerate(np.unique(y_train))}\n",
        "    inverse_dic = {v:k for k,v in dic_y_mapping.items()}\n",
        "    y_train = np.array([inverse_dic[y] for y in y_train])\n",
        "    return y_train, dic_y_mapping"
      ],
      "execution_count": 14,
      "outputs": []
    },
    {
      "cell_type": "code",
      "metadata": {
        "colab": {
          "base_uri": "https://localhost:8080/",
          "height": 116,
          "referenced_widgets": [
            "80bb686f18294b3089e7a1a6895b4f2a",
            "25300b1ce6dd42a5938be2c70282d0f6",
            "e6099193d78c4fa9bd837d5d73c3e990",
            "317caba37f83404c85121e6a3370ef2e",
            "17bccd0f294d4a3d9743a6858441c93b",
            "453ea79107af4a6695bd26a010080ff6",
            "f450869ea47a4213b4ca33b6a8f09a6e",
            "1d237d946165474dba7554c0ca3ae604",
            "184a311dbbfc462a9215688bf3ac74bb",
            "5c4f5a1e77294fecada31be2833a40eb",
            "60c7459612804b69a5863ce680fbdc13",
            "caec3ff5c84d45f8b3e2d4144cee2249",
            "f84b3d21f2b24bbc8604e06f442c37df",
            "419b31bd03ea4dbdaca65ffd9fb8741c",
            "3b2b63efcd2646c8a884353ad40041d6",
            "e0476fffa97547e0baaa6bbd44accf19"
          ]
        },
        "id": "4BMsMwpZcWZo",
        "outputId": "8a4e4086-a7b1-4873-905f-c3f054f77fdd"
      },
      "source": [
        "from transformers import AutoModel, BertTokenizerFast\n",
        "\n",
        "# import BERT-base pretrained model\n",
        "# base_bert = AutoModel.from_pretrained('bert-base-uncased')\n",
        "\n",
        "# Load the BERT tokenizer\n",
        "tokenizer = BertTokenizerFast.from_pretrained('bert-base-uncased')"
      ],
      "execution_count": 15,
      "outputs": [
        {
          "output_type": "display_data",
          "data": {
            "application/vnd.jupyter.widget-view+json": {
              "model_id": "80bb686f18294b3089e7a1a6895b4f2a",
              "version_minor": 0,
              "version_major": 2
            },
            "text/plain": [
              "HBox(children=(FloatProgress(value=0.0, description='Downloading', max=231508.0, style=ProgressStyle(descripti…"
            ]
          },
          "metadata": {
            "tags": []
          }
        },
        {
          "output_type": "stream",
          "text": [
            "\n"
          ],
          "name": "stdout"
        },
        {
          "output_type": "display_data",
          "data": {
            "application/vnd.jupyter.widget-view+json": {
              "model_id": "184a311dbbfc462a9215688bf3ac74bb",
              "version_minor": 0,
              "version_major": 2
            },
            "text/plain": [
              "HBox(children=(FloatProgress(value=0.0, description='Downloading', max=466062.0, style=ProgressStyle(descripti…"
            ]
          },
          "metadata": {
            "tags": []
          }
        },
        {
          "output_type": "stream",
          "text": [
            "\n"
          ],
          "name": "stdout"
        }
      ]
    },
    {
      "cell_type": "markdown",
      "metadata": {
        "id": "uFtqfq-CNvms"
      },
      "source": [
        "## BERT\n",
        "Transfer learning from a pre-trained of BERT:\n",
        "24-layer, 1024-hidden, 16-heads, 336M parameters.\n",
        "Trained on lower-cased English text."
      ]
    },
    {
      "cell_type": "markdown",
      "metadata": {
        "id": "5cTaZ3LNNvms"
      },
      "source": [
        "### Tokenizer Definition"
      ]
    },
    {
      "cell_type": "code",
      "metadata": {
        "id": "u1XYDhyJNvmt"
      },
      "source": [
        "base_bert = 'bert-base-uncased' # Pick any desired pre-trained model\n",
        "\n",
        "# Defining DistilBERT tokonizer\n",
        "# tokenizer = BertTokenizer.from_pretrained(base_bert, do_lower_case=True, add_special_tokens=True,\n",
        "#                                                 max_length=256, pad_to_max_length=True)"
      ],
      "execution_count": 16,
      "outputs": []
    },
    {
      "cell_type": "markdown",
      "metadata": {
        "id": "efRAoc4aNvmt"
      },
      "source": [
        "### Load Model"
      ]
    },
    {
      "cell_type": "code",
      "metadata": {
        "colab": {
          "base_uri": "https://localhost:8080/",
          "height": 174,
          "referenced_widgets": [
            "deb2a286c0b949f49afca2a44add412c",
            "0f2059ac53c54ccfaa659f0cd6a97472",
            "ef9e8a34ac1c46719fe2892d008591fa",
            "1caa12aeb3064d659b42353ce575c0e2",
            "9137e74a56654a3b92bbd418d897daee",
            "4a99031f626141428097c6217b129d96",
            "d9c1b25317d24557acc74a75ead8d9e6",
            "293a246ac4894c25a0ec293665c38838"
          ]
        },
        "id": "95o78P2pNvmt",
        "outputId": "b4af8d37-a203-4bf0-8e36-3cc91fa349f0"
      },
      "source": [
        "config = BertConfig(dropout=0.2, attention_dropout=0.2)\n",
        "config.output_hidden_states = False\n",
        "transformer_model = TFBertModel.from_pretrained(base_bert, config = config)"
      ],
      "execution_count": 17,
      "outputs": [
        {
          "output_type": "display_data",
          "data": {
            "application/vnd.jupyter.widget-view+json": {
              "model_id": "deb2a286c0b949f49afca2a44add412c",
              "version_minor": 0,
              "version_major": 2
            },
            "text/plain": [
              "HBox(children=(FloatProgress(value=0.0, description='Downloading', max=536063208.0, style=ProgressStyle(descri…"
            ]
          },
          "metadata": {
            "tags": []
          }
        },
        {
          "output_type": "stream",
          "text": [
            "\n"
          ],
          "name": "stdout"
        },
        {
          "output_type": "stream",
          "text": [
            "Some layers from the model checkpoint at bert-base-uncased were not used when initializing TFBertModel: ['nsp___cls', 'mlm___cls']\n",
            "- This IS expected if you are initializing TFBertModel from the checkpoint of a model trained on another task or with another architecture (e.g. initializing a BertForSequenceClassification model from a BertForPreTraining model).\n",
            "- This IS NOT expected if you are initializing TFBertModel from the checkpoint of a model that you expect to be exactly identical (initializing a BertForSequenceClassification model from a BertForSequenceClassification model).\n",
            "All the layers of TFBertModel were initialized from the model checkpoint at bert-base-uncased.\n",
            "If your task is similar to the task the model of the checkpoint was trained on, you can already use TFBertModel for predictions without further training.\n"
          ],
          "name": "stderr"
        }
      ]
    },
    {
      "cell_type": "markdown",
      "metadata": {
        "id": "-ciu4AQUNvmu"
      },
      "source": [
        "### Tokenization of Documents"
      ]
    },
    {
      "cell_type": "code",
      "metadata": {
        "id": "UEILN-ChNvmu"
      },
      "source": [
        "def bert_tokenize(sentences, tokenizer):\n",
        "    corpus = []\n",
        "    sentences_list = []\n",
        "    sentences_list = sentences.tolist()\n",
        "#     for i in range(len(sentences_list)):\n",
        "#         split_sentences = get_split(sentences_list[i])\n",
        "#         corpus = corpus + split_sentences\n",
        "#     print(\"Sentenças no Corpus:\", len(corpus))\n",
        "    input_ids, input_masks, input_segments = [],[],[]\n",
        "#     for sentence in tqdm(sentences):\n",
        "    for sentence in sentences_list:\n",
        "#         print(sentence)\n",
        "#         print(len(sentence.split()))\n",
        "        inputs = tokenizer.encode_plus(sentence, add_special_tokens=True, max_length=128, pad_to_max_length=True, \n",
        "                                             return_attention_mask=True, return_token_type_ids=True)\n",
        "        input_ids.append(inputs['input_ids'])\n",
        "        input_masks.append(inputs['attention_mask'])\n",
        "#         print(input_ids)\n",
        "#         print(len(input_ids[0]))\n",
        "#     print(len(input_ids))\n",
        "#         input_segments.append(inputs['token_type_ids'])        \n",
        "        \n",
        "#     return np.asarray(input_ids, dtype='int32'), np.asarray(input_masks, dtype='int32'), np.asarray(input_segments, dtype='int32')\n",
        "    return np.asarray(input_ids, dtype='int32'), np.asarray(input_masks, dtype='int32')\n",
        "\n",
        "from tensorflow.keras.constraints import max_norm\n",
        "def fit_bert_classif(X_train, y_train, X_test, encode_y=False, dic_y_mapping=None, model=None, epochs=1, batch_size=8):\n",
        "    ## encode y\n",
        "    if encode_y is True:\n",
        "        dic_y_mapping = {n:label for n,label in enumerate(np.unique(y_train))}\n",
        "        inverse_dic = {v:k for k,v in dic_y_mapping.items()}\n",
        "        y_train = np.array( [inverse_dic[y] for y in y_train] )\n",
        "    # print(dic_y_mapping)\n",
        "    \n",
        "    ## model\n",
        "    if model is None:\n",
        "        ### inputs\n",
        "        input_ids_in = tf.keras.layers.Input(shape=(128,), name='input_token', dtype='int32')\n",
        "        input_masks_in = tf.keras.layers.Input(shape=(128,), name='masked_token', dtype='int32')\n",
        "#         input_segments_in = tf.keras.layers.Input(shape=(128,), name='segment_token', dtype='int32') \n",
        "\n",
        "        \n",
        "        ### pre-trained bert\n",
        "        X = transformer_model(input_ids_in, attention_mask=input_masks_in)[0]\n",
        "    \n",
        "        ### fine-tuning\n",
        "        # 2 layers of bidirectional lstm\n",
        "        X = layers.Bidirectional(layers.LSTM(180, dropout=0.0,\n",
        "                              return_sequences=True))(X)\n",
        "        X = layers.Bidirectional(layers.LSTM(90, dropout=0.0))(X)\n",
        "\n",
        "        # ## final dense layers\n",
        "        X = layers.Dense(32, activation='tanh', kernel_constraint=max_norm(11))(X)\n",
        "        # X = layers.Dropout(0.1)(X)\n",
        "\n",
        "        y_out = layers.Dense(len(np.unique(y_train)), activation='softmax')(X)\n",
        "\n",
        "\n",
        "        ### compile\n",
        "        model = Model(inputs=[input_ids_in, input_masks_in], outputs = y_out)\n",
        "\n",
        "        for layer in model.layers[:3]:\n",
        "            layer.trainable = False\n",
        "\n",
        "        model.compile(loss='sparse_categorical_crossentropy', optimizer='Nadam', metrics=['accuracy'])\n",
        "        # print(model.summary())\n",
        "        \n",
        "    ## train\n",
        "    verbose = 1 if epochs > 1 else 2\n",
        "    training = model.fit(x=X_train, y=y_train, batch_size=batch_size, epochs=epochs, shuffle=True, verbose=verbose, validation_split=0.2)\n",
        "    if epochs > 1:\n",
        "        utils_plot_keras_training(training)\n",
        "    \n",
        "    ## test\n",
        "    predicted_prob = model.predict(X_test)\n",
        "    predicted = [dic_y_mapping[np.argmax(pred)] for pred in predicted_prob] if encode_y is True else [np.argmax(pred)]\n",
        "    return training.model, predicted_prob, predicted\n",
        "\n",
        "\n",
        "'''\n",
        "Plot loss and metrics of keras training.\n",
        "'''\n",
        "def utils_plot_keras_training(training):\n",
        "    metrics = [k for k in training.history.keys() if (\"loss\" not in k) and (\"val\" not in k)]\n",
        "    fig, ax = plt.subplots(nrows=1, ncols=2, sharey=True, figsize=(15,3))\n",
        "    \n",
        "    ## training\n",
        "    ax[0].set(title=\"Training\")\n",
        "    ax11 = ax[0].twinx()\n",
        "    ax[0].plot(training.history['loss'], color='black')\n",
        "    ax[0].set_xlabel('Epochs')\n",
        "    ax[0].set_ylabel('Loss', color='black')\n",
        "    for metric in metrics:\n",
        "        ax11.plot(training.history[metric], label=metric)\n",
        "    ax11.set_ylabel(\"Score\", color='steelblue')\n",
        "    ax11.legend()\n",
        "    \n",
        "    ## validation\n",
        "    ax[1].set(title=\"Validation\")\n",
        "    ax22 = ax[1].twinx()\n",
        "    ax[1].plot(training.history['val_loss'], color='black')\n",
        "    ax[1].set_xlabel('Epochs')\n",
        "    ax[1].set_ylabel('Loss', color='black')\n",
        "    for metric in metrics:\n",
        "        ax22.plot(training.history['val_'+metric], label=metric)\n",
        "    ax22.set_ylabel(\"Score\", color=\"steelblue\")\n",
        "    plt.show()"
      ],
      "execution_count": 27,
      "outputs": []
    },
    {
      "cell_type": "markdown",
      "metadata": {
        "id": "ky4M2_woNvmr"
      },
      "source": [
        "### Define Target"
      ]
    },
    {
      "cell_type": "code",
      "metadata": {
        "id": "G-k9KC9cNvmv"
      },
      "source": [
        "X = df[\"Text\"]\n",
        "y = df[\"Label\"].values"
      ],
      "execution_count": 21,
      "outputs": []
    },
    {
      "cell_type": "code",
      "metadata": {
        "id": "4JA5Nohe_lg2"
      },
      "source": [
        "# Split original sentence in small sentences.\n",
        "def get_split(text1):\n",
        "    l_total   = []\n",
        "    l_partial = []\n",
        "    len_final = 0\n",
        "    if len(text1.split())//150 > 0:\n",
        "        n = len(text1.split())//150\n",
        "    else:\n",
        "        n = 1\n",
        "    for w in range(n):\n",
        "        if w == 0:\n",
        "            l_partial = text1.split()[:200]\n",
        "            l_total.append(\" \".join(l_partial))\n",
        "            len_final = len_final+ (len(l_total[w].split()))\n",
        "        else:\n",
        "            l_partial = text1.split()[w*150:w*150+200]\n",
        "            l_total.append(\" \".join(l_partial))\n",
        "            len_final = len_final+ (len(l_total[w].split()))\n",
        "        if (w == n-1 and n != 1) and (len_final-50 < len(text1.split())):\n",
        "            l_partial = text1.split()[n*200-50:len(text1.split())]\n",
        "            l_total.append(\" \".join(l_partial))\n",
        "    return l_total"
      ],
      "execution_count": 20,
      "outputs": []
    },
    {
      "cell_type": "code",
      "metadata": {
        "colab": {
          "base_uri": "https://localhost:8080/"
        },
        "id": "Et0gV6Jm_lg3",
        "outputId": "1b18f687-8bb9-4b01-fae6-d8b28bbbe909"
      },
      "source": [
        "# Function to replicate the same number of targets (classes) for each feature that is added.\n",
        "novas_features = []\n",
        "idx = 0\n",
        "total_geral = 0\n",
        "for i, val in X.iteritems():\n",
        "    total = get_split(X[i]) # divides long sentences into smaller sentences\n",
        "    novas_features = novas_features + total\n",
        "    if len(X[i].split()) > 200:\n",
        "        total_geral = total_geral + len(total)\n",
        "        for j in range(len(total)-1):\n",
        "            y = np.insert(y, idx, y[idx])\n",
        "            idx += 1\n",
        "    idx += 1\n",
        "print(f'Summary - Initial Samples: {len (df [\"Label\"].values)} | Total New Samples: {len (y)}')\n",
        "\n",
        "X = pd.Series(novas_features)"
      ],
      "execution_count": 22,
      "outputs": [
        {
          "output_type": "stream",
          "text": [
            "Summary - Initial Samples: 208 | Total New Samples: 2315\n"
          ],
          "name": "stdout"
        }
      ]
    },
    {
      "cell_type": "markdown",
      "metadata": {
        "id": "FFLtLQhx_lg3"
      },
      "source": [
        "### Plot data\r\n"
      ]
    },
    {
      "cell_type": "code",
      "metadata": {
        "id": "en9gFTT__lg3"
      },
      "source": [
        "df_target = pd.DataFrame(y, columns=['Label'])\n",
        "df_data = pd.concat([X,df_target], axis=1)"
      ],
      "execution_count": 23,
      "outputs": []
    },
    {
      "cell_type": "code",
      "metadata": {
        "colab": {
          "base_uri": "https://localhost:8080/",
          "height": 294
        },
        "id": "KjJA9nm2_lg4",
        "outputId": "04e37108-e9ec-4968-d09f-6c4bff4d991c"
      },
      "source": [
        "fig, ax = plt.subplots()\n",
        "fig.suptitle(\"Univariate Distribution\", fontsize=12)\n",
        "df_data[\"Label\"].reset_index().groupby(\"Label\").count().sort_values(by= \n",
        "       \"index\").plot(kind=\"barh\", legend=False, \n",
        "        ax=ax).grid(axis='x')\n",
        "plt.show()"
      ],
      "execution_count": 24,
      "outputs": [
        {
          "output_type": "display_data",
          "data": {
            "image/png": "[encoded data removed]",
            "text/plain": [
              "<Figure size 432x288 with 1 Axes>"
            ]
          },
          "metadata": {
            "tags": [],
            "needs_background": "light"
          }
        }
      ]
    },
    {
      "cell_type": "markdown",
      "metadata": {
        "id": "1IAvwG5yNvmv"
      },
      "source": [
        "### Training and Fine-tuning"
      ]
    },
    {
      "cell_type": "code",
      "metadata": {
        "colab": {
          "base_uri": "https://localhost:8080/",
          "height": 1000
        },
        "id": "VkYSVgkyNvmv",
        "outputId": "8cb86a61-293a-401b-96b2-9a3c8280bfaf"
      },
      "source": [
        "final_mean = []\n",
        "conf_matrix_list_of_arrays = []\n",
        "for i in range(1):\n",
        "\n",
        "    accrs = []\n",
        "    fold=0\n",
        "#     conf_matrix_list_of_arrays = []\n",
        "\n",
        "    k=2\n",
        "    sss = StratifiedShuffleSplit(n_splits=k, test_size=0.2, random_state=42)\n",
        "\n",
        "    for train_index, test_index in sss.split(X, y):\n",
        "        X_train, X_test = X[train_index], X[test_index]\n",
        "        y_train, y_test = y[train_index], y[test_index]\n",
        "\n",
        "        fold +=1\n",
        "\n",
        "        #create tensors\n",
        "        X_train = bert_tokenize(sentences=X_train, tokenizer=tokenizer)\n",
        "        X_test = bert_tokenize(sentences=X_test, tokenizer=tokenizer)\n",
        "\n",
        "        model, predicted_prob, predicted = fit_bert_classif(X_train, y_train, X_test, encode_y=True, \n",
        "                                                            model=None, epochs=2, batch_size=8)\n",
        "        # Validade Test Set\n",
        "        accr = metrics.accuracy_score(y_test, predicted)\n",
        "        #\n",
        "        conf_matrix = confusion_matrix(y_test, predicted)\n",
        "        conf_matrix_list_of_arrays.append(conf_matrix)\n",
        "        #\n",
        "        accrs.append(accr)\n",
        "\n",
        "        print('\\n--------------------------------------------------------------------')\n",
        "        print(f'Iteração: {i+1} Fold: {fold} Accuracy: {accr}, Mean Accuracy: {sum(accrs)/fold}')\n",
        "        print('\\n--------------------------------------------------------------------')\n",
        "    final_mean.append(sum(accrs)/k)\n",
        "\n",
        "# means for Confusion Matrix\n",
        "mean_of_conf_matrix_arrays = np.mean(conf_matrix_list_of_arrays, axis=0)"
      ],
      "execution_count": 28,
      "outputs": [
        {
          "output_type": "stream",
          "text": [
            "WARNING:tensorflow:The parameters `output_attentions`, `output_hidden_states` and `use_cache` cannot be updated when calling a model.They have to be set to True/False in the config object (i.e.: `config=XConfig.from_pretrained('name', output_attentions=True)`).\n",
            "WARNING:tensorflow:The parameter `return_dict` cannot be set in graph mode and will always be set to `True`.\n",
            "Epoch 1/2\n",
            "WARNING:tensorflow:The parameters `output_attentions`, `output_hidden_states` and `use_cache` cannot be updated when calling a model.They have to be set to True/False in the config object (i.e.: `config=XConfig.from_pretrained('name', output_attentions=True)`).\n",
            "WARNING:tensorflow:The parameter `return_dict` cannot be set in graph mode and will always be set to `True`.\n",
            "WARNING:tensorflow:The parameters `output_attentions`, `output_hidden_states` and `use_cache` cannot be updated when calling a model.They have to be set to True/False in the config object (i.e.: `config=XConfig.from_pretrained('name', output_attentions=True)`).\n",
            "WARNING:tensorflow:The parameter `return_dict` cannot be set in graph mode and will always be set to `True`.\n",
            "186/186 [==============================] - ETA: 0s - loss: 0.9484 - accuracy: 0.6685WARNING:tensorflow:The parameters `output_attentions`, `output_hidden_states` and `use_cache` cannot be updated when calling a model.They have to be set to True/False in the config object (i.e.: `config=XConfig.from_pretrained('name', output_attentions=True)`).\n",
            "WARNING:tensorflow:The parameter `return_dict` cannot be set in graph mode and will always be set to `True`.\n",
            "186/186 [==============================] - 75s 315ms/step - loss: 0.9471 - accuracy: 0.6690 - val_loss: 0.6000 - val_accuracy: 0.7951\n",
            "Epoch 2/2\n",
            "186/186 [==============================] - 56s 301ms/step - loss: 0.4597 - accuracy: 0.8280 - val_loss: 1.3750 - val_accuracy: 0.5660\n"
          ],
          "name": "stdout"
        },
        {
          "output_type": "display_data",
          "data": {
            "image/png": "[encoded data removed]",
            "text/plain": [
              "<Figure size 1080x216 with 4 Axes>"
            ]
          },
          "metadata": {
            "tags": [],
            "needs_background": "light"
          }
        },
        {
          "output_type": "stream",
          "text": [
            "WARNING:tensorflow:The parameters `output_attentions`, `output_hidden_states` and `use_cache` cannot be updated when calling a model.They have to be set to True/False in the config object (i.e.: `config=XConfig.from_pretrained('name', output_attentions=True)`).\n",
            "WARNING:tensorflow:The parameter `return_dict` cannot be set in graph mode and will always be set to `True`.\n",
            "\n",
            "--------------------------------------------------------------------\n",
            "Iteração: 1 Fold: 1 Accuracy: 0.5356371490280778, Mean Accuracy: 0.5356371490280778\n",
            "\n",
            "--------------------------------------------------------------------\n",
            "WARNING:tensorflow:The parameters `output_attentions`, `output_hidden_states` and `use_cache` cannot be updated when calling a model.They have to be set to True/False in the config object (i.e.: `config=XConfig.from_pretrained('name', output_attentions=True)`).\n",
            "WARNING:tensorflow:The parameter `return_dict` cannot be set in graph mode and will always be set to `True`.\n",
            "Epoch 1/2\n",
            "WARNING:tensorflow:The parameters `output_attentions`, `output_hidden_states` and `use_cache` cannot be updated when calling a model.They have to be set to True/False in the config object (i.e.: `config=XConfig.from_pretrained('name', output_attentions=True)`).\n",
            "WARNING:tensorflow:The parameter `return_dict` cannot be set in graph mode and will always be set to `True`.\n",
            "WARNING:tensorflow:The parameters `output_attentions`, `output_hidden_states` and `use_cache` cannot be updated when calling a model.They have to be set to True/False in the config object (i.e.: `config=XConfig.from_pretrained('name', output_attentions=True)`).\n",
            "WARNING:tensorflow:The parameter `return_dict` cannot be set in graph mode and will always be set to `True`.\n",
            "186/186 [==============================] - ETA: 0s - loss: 0.9606 - accuracy: 0.6688WARNING:tensorflow:The parameters `output_attentions`, `output_hidden_states` and `use_cache` cannot be updated when calling a model.They have to be set to True/False in the config object (i.e.: `config=XConfig.from_pretrained('name', output_attentions=True)`).\n",
            "WARNING:tensorflow:The parameter `return_dict` cannot be set in graph mode and will always be set to `True`.\n",
            "186/186 [==============================] - 74s 315ms/step - loss: 0.9594 - accuracy: 0.6692 - val_loss: 0.5882 - val_accuracy: 0.7790\n",
            "Epoch 2/2\n",
            "186/186 [==============================] - 56s 300ms/step - loss: 0.4438 - accuracy: 0.8368 - val_loss: 0.3655 - val_accuracy: 0.8679\n"
          ],
          "name": "stdout"
        },
        {
          "output_type": "display_data",
          "data": {
            "image/png": "[encoded data removed]",
            "text/plain": [
              "<Figure size 1080x216 with 4 Axes>"
            ]
          },
          "metadata": {
            "tags": [],
            "needs_background": "light"
          }
        },
        {
          "output_type": "stream",
          "text": [
            "WARNING:tensorflow:The parameters `output_attentions`, `output_hidden_states` and `use_cache` cannot be updated when calling a model.They have to be set to True/False in the config object (i.e.: `config=XConfig.from_pretrained('name', output_attentions=True)`).\n",
            "WARNING:tensorflow:The parameter `return_dict` cannot be set in graph mode and will always be set to `True`.\n",
            "\n",
            "--------------------------------------------------------------------\n",
            "Iteração: 1 Fold: 2 Accuracy: 0.8790496760259179, Mean Accuracy: 0.7073434125269978\n",
            "\n",
            "--------------------------------------------------------------------\n"
          ],
          "name": "stdout"
        }
      ]
    },
    {
      "cell_type": "code",
      "metadata": {
        "colab": {
          "base_uri": "https://localhost:8080/",
          "height": 778
        },
        "id": "0MjS-OGPNvmw",
        "scrolled": false,
        "outputId": "c5fcaf56-286d-4586-97d5-876035bbbfbe"
      },
      "source": [
        "uf.custom_metrics(mean_of_conf_matrix_arrays, np.unique(y_test))"
      ],
      "execution_count": 29,
      "outputs": [
        {
          "output_type": "stream",
          "text": [
            "                                          Metrics Resume                                          \n",
            "==================================================================================================\n",
            "Class Name          \t Precision\t    Recall\t  F1-Score\t       MCC\t       AUC\n",
            "Contributors' Guide \t      0.62\t      0.35\t      0.44\t      0.42\t      0.66\n",
            "Design Document     \t      0.75\t      0.43\t      0.55\t      0.55\t      0.71\n",
            "License             \t      0.91\t       1.0\t      0.95\t      0.95\t      0.99\n",
            "List of Contributors\t      0.98\t       0.9\t      0.94\t      0.92\t      0.95\n",
            "Release Notes       \t      0.96\t      0.47\t      0.63\t      0.62\t      0.73\n",
            "Requirement Document\t      0.36\t      0.81\t       0.5\t      0.41\t      0.77\n",
            "Setup Files         \t      0.79\t      0.79\t      0.79\t      0.78\t      0.89\n",
            "\n",
            "Macro Average       \t      0.77\t      0.68\t      0.68\t      0.66\t      0.81\n",
            "Micro Average       \t      0.71\t      0.71\t      0.71\t      0.78\t      0.83\n"
          ],
          "name": "stdout"
        },
        {
          "output_type": "display_data",
          "data": {
            "image/png": "[encoded data removed]",
            "text/plain": [
              "<Figure size 576x576 with 2 Axes>"
            ]
          },
          "metadata": {
            "tags": [],
            "needs_background": "light"
          }
        }
      ]
    },
    {
      "cell_type": "markdown",
      "metadata": {
        "id": "sQuD0pJjOdEe"
      },
      "source": [
        "Plot ROC Curve"
      ]
    },
    {
      "cell_type": "code",
      "metadata": {
        "colab": {
          "base_uri": "https://localhost:8080/",
          "height": 485
        },
        "id": "c49U2D5_OP_r",
        "outputId": "19447950-cb7d-4763-edb8-ecb518a47130"
      },
      "source": [
        "classes = np.unique(y_test)\r\n",
        "y_test_array = pd.get_dummies(y_test, drop_first=False).values\r\n",
        "\r\n",
        "import matplotlib as mpl\r\n",
        "mpl.style.use('seaborn')\r\n",
        "\r\n",
        "fig, ax = plt.subplots(nrows=1, ncols=2, figsize=(15,5))\r\n",
        "## Plot roc\r\n",
        "for i in range(len(classes)):\r\n",
        "    fpr, tpr, thresholds = metrics.roc_curve(y_test_array[:,i],  \r\n",
        "                           predicted_prob[:,i])\r\n",
        "    ax[0].plot(fpr, tpr, lw=3, \r\n",
        "              label='{0} (area={1:0.2f})'.format(classes[i], \r\n",
        "                              metrics.auc(fpr, tpr))\r\n",
        "               )\r\n",
        "ax[0].plot([0,1], [0,1], color='navy', lw=3, linestyle='--')\r\n",
        "ax[0].set(xlim=[-0.05,1.0], ylim=[0.0,1.05], \r\n",
        "          xlabel='False Positive Rate', \r\n",
        "          ylabel=\"True Positive Rate (Recall)\", \r\n",
        "          title=\"Receiver operating characteristic\")\r\n",
        "ax[0].legend(loc=\"lower right\")\r\n",
        "ax[0].grid(True)\r\n",
        "    \r\n",
        "## Plot precision-recall curve\r\n",
        "for i in range(len(classes)):\r\n",
        "    precision, recall, thresholds = metrics.precision_recall_curve(\r\n",
        "                 y_test_array[:,i], predicted_prob[:,i])\r\n",
        "    ax[1].plot(recall, precision, lw=3, \r\n",
        "               label='{0} (area={1:0.2f})'.format(classes[i], \r\n",
        "                                  metrics.auc(recall, precision))\r\n",
        "              )\r\n",
        "ax[1].set(xlim=[0.0,1.05], ylim=[0.0,1.05], xlabel='Recall', \r\n",
        "          ylabel=\"Precision\", title=\"Precision-Recall curve\")\r\n",
        "ax[1].legend(loc=\"best\")\r\n",
        "ax[1].grid(True)\r\n",
        "plt.show()"
      ],
      "execution_count": 78,
      "outputs": [
        {
          "output_type": "display_data",
          "data": {
            "image/png": "[encoded data removed]",
            "text/plain": [
              "<Figure size 1500x500 with 2 Axes>"
            ]
          },
          "metadata": {
            "tags": []
          }
        }
      ]
    },
    {
      "cell_type": "markdown",
      "metadata": {
        "id": "Pyo3QnyqNvmw"
      },
      "source": [
        "### BERT with Conventional ML"
      ]
    },
    {
      "cell_type": "code",
      "metadata": {
        "id": "Q_pRpjXb_lg5"
      },
      "source": [
        "def utils_bert_embedding(txt, tokenizer, nlp, log=False):\n",
        "    idx = tokenizer.encode(txt, add_special_tokens=True, max_length=256, pad_to_max_length=True, \n",
        "                                             return_attention_mask=True, return_token_type_ids=True)\n",
        "    print(idx)\n",
        "    if log is True:\n",
        "        print(\"tokens:\", tokenizer.convert_ids_to_tokens(idx))\n",
        "        print(\"ids   :\", tokenizer.encode(txt))\n",
        "    idx = np.array(idx)[None,:]\n",
        "    embedding = nlp(idx)\n",
        "    X = np.array(embedding[0][0][1:-1])\n",
        "    return X\n",
        "'''\n",
        "Creates a feature matrix (num_docs x vector_size)\n",
        ":parameter\n",
        "    :param x: string or list\n",
        "    :param tokenizer: transformers tokenizer\n",
        "    :param nlp: transformers bert\n",
        "    :param log: bool - print tokens\n",
        ":return\n",
        "    vector or matrix \n",
        "'''\n",
        "def embedding_bert(x, tokenizer=None, nlp=None, log=False):\n",
        "    tokenizer = transformers.BertTokenizer.from_pretrained('bert-base-uncased') if tokenizer is None else tokenizer\n",
        "    nlp = transformers.TFBertModel.from_pretrained('bert-base-uncased') if nlp is None else nlp\n",
        "    \n",
        "    ## single word --> vec (size,)\n",
        "    if (type(x) is str) and (len(x.split()) == 1):\n",
        "        X = utils_bert_embedding(x, tokenizer, nlp, log).reshape(-1)\n",
        "    \n",
        "    ## list of words --> matrix (n, size)\n",
        "    elif (type(x) is list) and (type(x[0]) is str) and (len(x[0].split()) == 1):\n",
        "        X = utils_bert_embedding(x, tokenizer, nlp, log)\n",
        "    \n",
        "    ## list of lists of words --> matrix (n mean vectors, size)\n",
        "    elif (type(x) is list) and (type(x[0]) is list):\n",
        "        lst_mean_vecs = [utils_bert_embedding(lst, tokenizer, nlp, log).mean(0) for lst in x]\n",
        "        X = np.array(lst_mean_vecs)\n",
        "    \n",
        "    ## single text --> matrix (n words, size)\n",
        "    elif (type(x) is str) and (len(x.split()) > 1):\n",
        "        X = utils_bert_embedding(x, tokenizer, nlp, log)\n",
        "        \n",
        "    ## list of texts --> matrix (n mean vectors, size)\n",
        "    else:\n",
        "        lst_mean_vecs = [utils_bert_embedding(txt, tokenizer, nlp, log).mean(0) for txt in x]\n",
        "        X = np.array(lst_mean_vecs)\n",
        "    return X"
      ],
      "execution_count": null,
      "outputs": []
    },
    {
      "cell_type": "code",
      "metadata": {
        "id": "qd4VJ6fs_lg5"
      },
      "source": [
        "# Use for mNB\n",
        "from sklearn.preprocessing import MinMaxScaler, normalize\n",
        "def normalizer(X):\n",
        "    scaler = MinMaxScaler()\n",
        "    scaled_X = scaler.fit_transform(X)\n",
        "    normalized_X = normalize(scaled_X, norm='max', axis=0, copy=True)\n",
        "    return(normalized_X)"
      ],
      "execution_count": null,
      "outputs": []
    },
    {
      "cell_type": "markdown",
      "metadata": {
        "id": "sACmVeF1_lg5"
      },
      "source": [
        "#### Classifier"
      ]
    },
    {
      "cell_type": "code",
      "metadata": {
        "id": "5T_bDmGL_lg5"
      },
      "source": [
        "# Model Design\n",
        "clf1 = svm.SVC(gamma='scale')\n",
        "clf2 = RandomForestClassifier(n_estimators=500, random_state=1)\n",
        "clf3 = MultinomialNB(alpha=0.01)\n",
        "clf4 = DecisionTreeClassifier(random_state=0, max_depth=500)\n",
        "\n",
        "svc = SVC(probability=True, kernel='linear')\n",
        "ada = AdaBoostClassifier(n_estimators=50, base_estimator=svc,learning_rate=1)\n",
        "ada2 = AdaBoostClassifier(\n",
        "    DecisionTreeClassifier(max_depth=2),\n",
        "    n_estimators=600,\n",
        "    learning_rate=1.5,\n",
        "    algorithm=\"SAMME\")\n",
        "ada3 = AdaBoostClassifier()\n",
        "rf = RandomForestClassifier(max_depth=100, n_estimators=100, max_features=10)\n",
        "# nb = naive_bayes.MultinomialNB(alpha=0.01)\n",
        "nb = naive_bayes.MultinomialNB(alpha=0.0)\n",
        "lr = LogisticRegression(random_state=0, solver='lbfgs', multi_class='multinomial', class_weight='balanced', C=1500)\n",
        "dt = DecisionTreeClassifier(max_depth=500)"
      ],
      "execution_count": null,
      "outputs": []
    },
    {
      "cell_type": "code",
      "metadata": {
        "id": "zvVOTUmp_lg6"
      },
      "source": [
        "# Disable bert warnings\n",
        "import logging\n",
        "logging.getLogger(\"transformers.tokenization_utils\").setLevel(logging.ERROR)\n",
        "from tqdm import tqdm\n",
        "accrs = []\n",
        "preds = []\n",
        "conf_matrix_list_of_arrays = []\n",
        "fold = 0\n",
        "k=10\n",
        "\n",
        "sss = StratifiedShuffleSplit(n_splits=k, test_size=0.2, random_state=42)\n",
        "\n",
        "for train_index, test_index in sss.split(X, y):\n",
        "    X_train, X_test = X[train_index], X[test_index]\n",
        "    y_train, y_test = y[train_index], y[test_index]\n",
        "\n",
        "    fold +=1\n",
        "\n",
        "    X_train = embedding_bert(X_train,tokenizer, transformer_model, log=False)\n",
        "    X_train = normalizer(X_train) # Use for mNB\n",
        "    X_test = embedding_bert(X_test,tokenizer, transformer_model, log=False)\n",
        "    X_test = normalizer(X_test) # Use for mNB\n",
        "    \n",
        "    dic_y_mapping = {n:label for n,label in enumerate(np.unique(y_train))}\n",
        "\n",
        "    # train classifier\n",
        "    model = nb.fit(X_train, y_train)\n",
        "    \n",
        "    # test\n",
        "    predicted_prob = model.predict_proba(X_test)\n",
        "    predicted = [dic_y_mapping[np.argmax(pred)] for pred in predicted_prob]\n",
        "    \n",
        "    # Validade Test Set\n",
        "    accr = metrics.accuracy_score(y_test, predicted)\n",
        "\n",
        "    conf_matrix = confusion_matrix(y_test, predicted)\n",
        "    conf_matrix_list_of_arrays.append(conf_matrix)\n",
        "\n",
        "    accrs.append(accr)\n",
        "    print('\\n--------------------------------------------------------------------')\n",
        "    print(f'Fold: {fold} Accuracy: {accr}, Mean Accuracy: {sum(accrs)/fold}')\n",
        "    print('--------------------------------------------------------------------')\n",
        "    \n",
        "\n",
        "# means for Confusion Matrix\n",
        "mean_of_conf_matrix_arrays = np.mean(conf_matrix_list_of_arrays, axis=0)"
      ],
      "execution_count": null,
      "outputs": []
    },
    {
      "cell_type": "markdown",
      "metadata": {
        "id": "Q_82BkAz_lg6"
      },
      "source": [
        "### Plot Metrics Resume and Confusion Matrix"
      ]
    },
    {
      "cell_type": "code",
      "metadata": {
        "id": "DkW-CNBA_lg6"
      },
      "source": [
        "uf.custom_metrics(mean_of_conf_matrix_arrays, np.unique(y_test))"
      ],
      "execution_count": null,
      "outputs": []
    },
    {
      "cell_type": "markdown",
      "metadata": {
        "id": "pocKvbyC_lg6"
      },
      "source": [
        "### Voting Classifier"
      ]
    },
    {
      "cell_type": "code",
      "metadata": {
        "id": "hQRgBz3t_lg6"
      },
      "source": [
        "accrs = []\n",
        "conf_matrix_list_of_arrays = []\n",
        "kfolds=10\n",
        "fold = 0\n",
        "sss = StratifiedShuffleSplit(n_splits=kfolds, test_size=0.2, random_state=42)\n",
        "\n",
        "for train_index, test_index in sss.split(X, y):\n",
        "    X_train, X_test = X[train_index], X[test_index]\n",
        "    y_train, y_test = y[train_index], y[test_index]\n",
        "    \n",
        "    fold +=1\n",
        "\n",
        "    X_train = embedding_bert(X_train,tokenizer, transformer_model, log=False)\n",
        "    X_train = normalizer(X_train) # Use for mNB\n",
        "    X_test = embedding_bert(X_test,tokenizer, transformer_model, log=False)\n",
        "    X_test = normalizer(X_test) # Use for mNB\n",
        "    \n",
        "    dic_y_mapping = {n:label for n,label in enumerate(np.unique(y_train))}\n",
        "    \n",
        "    model = VotingClassifier(estimators=[\n",
        "        ('svm', clf1),('rf', clf2), ('mnb', clf3), ('tree', clf4)], voting='hard',weights=[1,1,2,1])\n",
        "    model = model.fit(X_train, y_train)\n",
        "    \n",
        "    predicted = model.predict(X_test)\n",
        "    accr = metrics.accuracy_score(y_test, predicted)\n",
        "    #\n",
        "    conf_matrix = confusion_matrix(y_test, predicted)\n",
        "    conf_matrix_list_of_arrays .append(conf_matrix)\n",
        "    #    \n",
        "    accrs.append(accr)\n",
        "#     print(metrics.classification_report(y_test, predicted))\n",
        "\n",
        "    print(f'Fold: {fold} Accuracy: {accr}, Mean Accuracy: {sum(accrs)/fold}')\n",
        "\n",
        "# means for Confusion Matrix\n",
        "mean_of_conf_matrix_arrays = np.mean(conf_matrix_list_of_arrays, axis=0)"
      ],
      "execution_count": null,
      "outputs": []
    },
    {
      "cell_type": "markdown",
      "metadata": {
        "id": "4gQeI_ap_lg8"
      },
      "source": [
        "### Plot Metrics Resume and Confusion Matrix"
      ]
    },
    {
      "cell_type": "code",
      "metadata": {
        "id": "MzInU-xm_lg8"
      },
      "source": [
        "uf.custom_metrics(mean_of_conf_matrix_arrays, np.unique(y_test))"
      ],
      "execution_count": null,
      "outputs": []
    },
    {
      "cell_type": "code",
      "metadata": {
        "id": "x8-LXDZY_lg9"
      },
      "source": [
        ""
      ],
      "execution_count": null,
      "outputs": []
    }
  ]
}